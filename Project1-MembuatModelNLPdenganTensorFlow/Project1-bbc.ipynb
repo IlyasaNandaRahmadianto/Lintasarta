{
 "cells": [
  {
   "cell_type": "markdown",
   "metadata": {},
   "source": [
    "# Proyek Pertama : Membuat Model NLP dengan TensorFlow\n",
    "\n",
    "- Nama : Ilyasa Nanda Rahmadianto\n",
    "- Username : [ilyasanara16](https://www.dicoding.com/users/ilyasanara16/academies)\n",
    "### Berikut kriteria submission yang harus Anda penuhi:\n",
    "1. Dataset yang akan dipakai bebas, namun minimal memiliki 1000 sampel.\n",
    "\n",
    "2. Harus menggunakan LSTM dalam arsitektur model.\n",
    "\n",
    "3. Harus menggunakan model sequential.\n",
    "\n",
    "4. Validation set sebesar 20% dari total dataset.\n",
    "\n",
    "5. Harus menggunakan Embedding.\n",
    "\n",
    "6. Harus menggunakan fungsi tokenizer.\n",
    "\n",
    "7. Akurasi dari model minimal 75% pada train set dan validation set.\n",
    "\n",
    "Klik link untuk mengunduh [Dataset](https://www.kaggle.com/datasets/yufengdev/bbc-fulltext-and-category/data)\n"
   ]
  },
  {
   "cell_type": "code",
   "execution_count": 1,
   "metadata": {},
   "outputs": [
    {
     "name": "stdout",
     "output_type": "stream",
     "text": [
      "WARNING:tensorflow:From c:\\Users\\ASUS\\AppData\\Local\\Programs\\Python\\Python310\\lib\\site-packages\\keras\\src\\losses.py:2976: The name tf.losses.sparse_softmax_cross_entropy is deprecated. Please use tf.compat.v1.losses.sparse_softmax_cross_entropy instead.\n",
      "\n"
     ]
    }
   ],
   "source": [
    "import pandas as pd\n",
    "import tensorflow as tf\n",
    "import matplotlib.pyplot as plt\n",
    "import matplotlib.image as mpimg\n",
    "import seaborn as sns\n",
    "\n",
    "from sklearn.model_selection import train_test_split\n",
    "from tensorflow.keras.preprocessing.text import Tokenizer\n",
    "from tensorflow.keras.preprocessing.sequence import pad_sequences"
   ]
  },
  {
   "cell_type": "code",
   "execution_count": 2,
   "metadata": {},
   "outputs": [
    {
     "name": "stderr",
     "output_type": "stream",
     "text": [
      "[nltk_data] Downloading package punkt to\n",
      "[nltk_data]     C:\\Users\\ASUS\\AppData\\Roaming\\nltk_data...\n",
      "[nltk_data]   Package punkt is already up-to-date!\n",
      "[nltk_data] Downloading package stopwords to\n",
      "[nltk_data]     C:\\Users\\ASUS\\AppData\\Roaming\\nltk_data...\n",
      "[nltk_data]   Package stopwords is already up-to-date!\n",
      "[nltk_data] Downloading package wordnet to\n",
      "[nltk_data]     C:\\Users\\ASUS\\AppData\\Roaming\\nltk_data...\n",
      "[nltk_data]   Package wordnet is already up-to-date!\n",
      "[nltk_data] Downloading package omw-1.4 to\n",
      "[nltk_data]     C:\\Users\\ASUS\\AppData\\Roaming\\nltk_data...\n",
      "[nltk_data]   Package omw-1.4 is already up-to-date!\n"
     ]
    }
   ],
   "source": [
    "# text processing\n",
    "import nltk\n",
    "nltk.download('punkt')\n",
    "nltk.download('stopwords')\n",
    "nltk.download('wordnet')\n",
    "nltk.download('omw-1.4')\n",
    "from nltk.tokenize import word_tokenize\n",
    "from nltk.tokenize import sent_tokenize\n",
    "from nltk.stem import WordNetLemmatizer\n",
    "from nltk.corpus import stopwords\n",
    "stopwords.words('english')\n",
    "import string\n",
    "string.punctuation\n",
    "from nltk.stem.porter import PorterStemmer\n",
    "import re\n",
    "\n",
    "# utils\n",
    "from tensorflow.keras.preprocessing.text import Tokenizer\n",
    "from tensorflow.keras.preprocessing.sequence import pad_sequences\n",
    "from tensorflow.keras.callbacks import Callback, ReduceLROnPlateau, EarlyStopping"
   ]
  },
  {
   "cell_type": "code",
   "execution_count": 3,
   "metadata": {},
   "outputs": [
    {
     "data": {
      "text/html": [
       "<div>\n",
       "<style scoped>\n",
       "    .dataframe tbody tr th:only-of-type {\n",
       "        vertical-align: middle;\n",
       "    }\n",
       "\n",
       "    .dataframe tbody tr th {\n",
       "        vertical-align: top;\n",
       "    }\n",
       "\n",
       "    .dataframe thead th {\n",
       "        text-align: right;\n",
       "    }\n",
       "</style>\n",
       "<table border=\"1\" class=\"dataframe\">\n",
       "  <thead>\n",
       "    <tr style=\"text-align: right;\">\n",
       "      <th></th>\n",
       "      <th>category</th>\n",
       "      <th>text</th>\n",
       "    </tr>\n",
       "  </thead>\n",
       "  <tbody>\n",
       "    <tr>\n",
       "      <th>0</th>\n",
       "      <td>tech</td>\n",
       "      <td>tv future in the hands of viewers with home th...</td>\n",
       "    </tr>\n",
       "    <tr>\n",
       "      <th>1</th>\n",
       "      <td>business</td>\n",
       "      <td>worldcom boss  left books alone  former worldc...</td>\n",
       "    </tr>\n",
       "    <tr>\n",
       "      <th>2</th>\n",
       "      <td>sport</td>\n",
       "      <td>tigers wary of farrell  gamble  leicester say ...</td>\n",
       "    </tr>\n",
       "    <tr>\n",
       "      <th>3</th>\n",
       "      <td>sport</td>\n",
       "      <td>yeading face newcastle in fa cup premiership s...</td>\n",
       "    </tr>\n",
       "    <tr>\n",
       "      <th>4</th>\n",
       "      <td>entertainment</td>\n",
       "      <td>ocean s twelve raids box office ocean s twelve...</td>\n",
       "    </tr>\n",
       "    <tr>\n",
       "      <th>...</th>\n",
       "      <td>...</td>\n",
       "      <td>...</td>\n",
       "    </tr>\n",
       "    <tr>\n",
       "      <th>2220</th>\n",
       "      <td>business</td>\n",
       "      <td>cars pull down us retail figures us retail sal...</td>\n",
       "    </tr>\n",
       "    <tr>\n",
       "      <th>2221</th>\n",
       "      <td>politics</td>\n",
       "      <td>kilroy unveils immigration policy ex-chatshow ...</td>\n",
       "    </tr>\n",
       "    <tr>\n",
       "      <th>2222</th>\n",
       "      <td>entertainment</td>\n",
       "      <td>rem announce new glasgow concert us band rem h...</td>\n",
       "    </tr>\n",
       "    <tr>\n",
       "      <th>2223</th>\n",
       "      <td>politics</td>\n",
       "      <td>how political squabbles snowball it s become c...</td>\n",
       "    </tr>\n",
       "    <tr>\n",
       "      <th>2224</th>\n",
       "      <td>sport</td>\n",
       "      <td>souness delight at euro progress boss graeme s...</td>\n",
       "    </tr>\n",
       "  </tbody>\n",
       "</table>\n",
       "<p>2225 rows × 2 columns</p>\n",
       "</div>"
      ],
      "text/plain": [
       "           category                                               text\n",
       "0              tech  tv future in the hands of viewers with home th...\n",
       "1          business  worldcom boss  left books alone  former worldc...\n",
       "2             sport  tigers wary of farrell  gamble  leicester say ...\n",
       "3             sport  yeading face newcastle in fa cup premiership s...\n",
       "4     entertainment  ocean s twelve raids box office ocean s twelve...\n",
       "...             ...                                                ...\n",
       "2220       business  cars pull down us retail figures us retail sal...\n",
       "2221       politics  kilroy unveils immigration policy ex-chatshow ...\n",
       "2222  entertainment  rem announce new glasgow concert us band rem h...\n",
       "2223       politics  how political squabbles snowball it s become c...\n",
       "2224          sport  souness delight at euro progress boss graeme s...\n",
       "\n",
       "[2225 rows x 2 columns]"
      ]
     },
     "execution_count": 3,
     "metadata": {},
     "output_type": "execute_result"
    }
   ],
   "source": [
    "df = pd.read_csv(\"C:/Users/ASUS/Downloads/TUGASKU/Dicoding/Lintasarta/Project1-MembuatModelNLPdenganTensorFlow/bbc-text.csv\")\n",
    "df.head()\n",
    "df"
   ]
  },
  {
   "cell_type": "code",
   "execution_count": 5,
   "metadata": {},
   "outputs": [
    {
     "data": {
      "text/plain": [
       "array(['tech', 'business', 'sport', 'entertainment', 'politics'],\n",
       "      dtype=object)"
      ]
     },
     "execution_count": 5,
     "metadata": {},
     "output_type": "execute_result"
    }
   ],
   "source": [
    "df.category.unique()"
   ]
  },
  {
   "cell_type": "code",
   "execution_count": 6,
   "metadata": {},
   "outputs": [
    {
     "data": {
      "text/plain": [
       "category    0\n",
       "text        0\n",
       "dtype: int64"
      ]
     },
     "execution_count": 6,
     "metadata": {},
     "output_type": "execute_result"
    }
   ],
   "source": [
    "df.isna().sum()"
   ]
  },
  {
   "cell_type": "code",
   "execution_count": 7,
   "metadata": {},
   "outputs": [
    {
     "data": {
      "text/html": [
       "<div>\n",
       "<style scoped>\n",
       "    .dataframe tbody tr th:only-of-type {\n",
       "        vertical-align: middle;\n",
       "    }\n",
       "\n",
       "    .dataframe tbody tr th {\n",
       "        vertical-align: top;\n",
       "    }\n",
       "\n",
       "    .dataframe thead th {\n",
       "        text-align: right;\n",
       "    }\n",
       "</style>\n",
       "<table border=\"1\" class=\"dataframe\">\n",
       "  <thead>\n",
       "    <tr style=\"text-align: right;\">\n",
       "      <th></th>\n",
       "      <th>category</th>\n",
       "      <th>text</th>\n",
       "    </tr>\n",
       "  </thead>\n",
       "  <tbody>\n",
       "    <tr>\n",
       "      <th>0</th>\n",
       "      <td>tech</td>\n",
       "      <td>tv future in the hands of viewers with home th...</td>\n",
       "    </tr>\n",
       "    <tr>\n",
       "      <th>1</th>\n",
       "      <td>business</td>\n",
       "      <td>worldcom boss  left books alone  former worldc...</td>\n",
       "    </tr>\n",
       "    <tr>\n",
       "      <th>2</th>\n",
       "      <td>sport</td>\n",
       "      <td>tigers wary of farrell  gamble  leicester say ...</td>\n",
       "    </tr>\n",
       "    <tr>\n",
       "      <th>3</th>\n",
       "      <td>sport</td>\n",
       "      <td>yeading face newcastle in fa cup premiership s...</td>\n",
       "    </tr>\n",
       "    <tr>\n",
       "      <th>4</th>\n",
       "      <td>entertainment</td>\n",
       "      <td>ocean s twelve raids box office ocean s twelve...</td>\n",
       "    </tr>\n",
       "  </tbody>\n",
       "</table>\n",
       "</div>"
      ],
      "text/plain": [
       "        category                                               text\n",
       "0           tech  tv future in the hands of viewers with home th...\n",
       "1       business  worldcom boss  left books alone  former worldc...\n",
       "2          sport  tigers wary of farrell  gamble  leicester say ...\n",
       "3          sport  yeading face newcastle in fa cup premiership s...\n",
       "4  entertainment  ocean s twelve raids box office ocean s twelve..."
      ]
     },
     "execution_count": 7,
     "metadata": {},
     "output_type": "execute_result"
    }
   ],
   "source": [
    "df.head()"
   ]
  },
  {
   "cell_type": "code",
   "execution_count": 8,
   "metadata": {},
   "outputs": [
    {
     "data": {
      "text/plain": [
       "<Axes: xlabel='count', ylabel='category'>"
      ]
     },
     "execution_count": 8,
     "metadata": {},
     "output_type": "execute_result"
    },
    {
     "data": {
      "image/png": "[encoded data removed]",
      "text/plain": [
       "<Figure size 800x800 with 1 Axes>"
      ]
     },
     "metadata": {},
     "output_type": "display_data"
    }
   ],
   "source": [
    "plt.figure(figsize = (8, 8))\n",
    "sns.countplot(df['category'])"
   ]
  },
  {
   "cell_type": "code",
   "execution_count": 14,
   "metadata": {},
   "outputs": [
    {
     "data": {
      "text/html": [
       "<div>\n",
       "<style scoped>\n",
       "    .dataframe tbody tr th:only-of-type {\n",
       "        vertical-align: middle;\n",
       "    }\n",
       "\n",
       "    .dataframe tbody tr th {\n",
       "        vertical-align: top;\n",
       "    }\n",
       "\n",
       "    .dataframe thead th {\n",
       "        text-align: right;\n",
       "    }\n",
       "</style>\n",
       "<table border=\"1\" class=\"dataframe\">\n",
       "  <thead>\n",
       "    <tr style=\"text-align: right;\">\n",
       "      <th></th>\n",
       "      <th>text</th>\n",
       "      <th>business</th>\n",
       "      <th>entertainment</th>\n",
       "      <th>politics</th>\n",
       "      <th>sport</th>\n",
       "      <th>tech</th>\n",
       "    </tr>\n",
       "  </thead>\n",
       "  <tbody>\n",
       "    <tr>\n",
       "      <th>0</th>\n",
       "      <td>tv future in the hands of viewers with home th...</td>\n",
       "      <td>False</td>\n",
       "      <td>False</td>\n",
       "      <td>False</td>\n",
       "      <td>False</td>\n",
       "      <td>True</td>\n",
       "    </tr>\n",
       "    <tr>\n",
       "      <th>1</th>\n",
       "      <td>worldcom boss  left books alone  former worldc...</td>\n",
       "      <td>True</td>\n",
       "      <td>False</td>\n",
       "      <td>False</td>\n",
       "      <td>False</td>\n",
       "      <td>False</td>\n",
       "    </tr>\n",
       "    <tr>\n",
       "      <th>2</th>\n",
       "      <td>tigers wary of farrell  gamble  leicester say ...</td>\n",
       "      <td>False</td>\n",
       "      <td>False</td>\n",
       "      <td>False</td>\n",
       "      <td>True</td>\n",
       "      <td>False</td>\n",
       "    </tr>\n",
       "    <tr>\n",
       "      <th>3</th>\n",
       "      <td>yeading face newcastle in fa cup premiership s...</td>\n",
       "      <td>False</td>\n",
       "      <td>False</td>\n",
       "      <td>False</td>\n",
       "      <td>True</td>\n",
       "      <td>False</td>\n",
       "    </tr>\n",
       "    <tr>\n",
       "      <th>4</th>\n",
       "      <td>ocean s twelve raids box office ocean s twelve...</td>\n",
       "      <td>False</td>\n",
       "      <td>True</td>\n",
       "      <td>False</td>\n",
       "      <td>False</td>\n",
       "      <td>False</td>\n",
       "    </tr>\n",
       "    <tr>\n",
       "      <th>...</th>\n",
       "      <td>...</td>\n",
       "      <td>...</td>\n",
       "      <td>...</td>\n",
       "      <td>...</td>\n",
       "      <td>...</td>\n",
       "      <td>...</td>\n",
       "    </tr>\n",
       "    <tr>\n",
       "      <th>2220</th>\n",
       "      <td>cars pull down us retail figures us retail sal...</td>\n",
       "      <td>True</td>\n",
       "      <td>False</td>\n",
       "      <td>False</td>\n",
       "      <td>False</td>\n",
       "      <td>False</td>\n",
       "    </tr>\n",
       "    <tr>\n",
       "      <th>2221</th>\n",
       "      <td>kilroy unveils immigration policy ex-chatshow ...</td>\n",
       "      <td>False</td>\n",
       "      <td>False</td>\n",
       "      <td>True</td>\n",
       "      <td>False</td>\n",
       "      <td>False</td>\n",
       "    </tr>\n",
       "    <tr>\n",
       "      <th>2222</th>\n",
       "      <td>rem announce new glasgow concert us band rem h...</td>\n",
       "      <td>False</td>\n",
       "      <td>True</td>\n",
       "      <td>False</td>\n",
       "      <td>False</td>\n",
       "      <td>False</td>\n",
       "    </tr>\n",
       "    <tr>\n",
       "      <th>2223</th>\n",
       "      <td>how political squabbles snowball it s become c...</td>\n",
       "      <td>False</td>\n",
       "      <td>False</td>\n",
       "      <td>True</td>\n",
       "      <td>False</td>\n",
       "      <td>False</td>\n",
       "    </tr>\n",
       "    <tr>\n",
       "      <th>2224</th>\n",
       "      <td>souness delight at euro progress boss graeme s...</td>\n",
       "      <td>False</td>\n",
       "      <td>False</td>\n",
       "      <td>False</td>\n",
       "      <td>True</td>\n",
       "      <td>False</td>\n",
       "    </tr>\n",
       "  </tbody>\n",
       "</table>\n",
       "<p>2225 rows × 6 columns</p>\n",
       "</div>"
      ],
      "text/plain": [
       "                                                   text  business  \\\n",
       "0     tv future in the hands of viewers with home th...     False   \n",
       "1     worldcom boss  left books alone  former worldc...      True   \n",
       "2     tigers wary of farrell  gamble  leicester say ...     False   \n",
       "3     yeading face newcastle in fa cup premiership s...     False   \n",
       "4     ocean s twelve raids box office ocean s twelve...     False   \n",
       "...                                                 ...       ...   \n",
       "2220  cars pull down us retail figures us retail sal...      True   \n",
       "2221  kilroy unveils immigration policy ex-chatshow ...     False   \n",
       "2222  rem announce new glasgow concert us band rem h...     False   \n",
       "2223  how political squabbles snowball it s become c...     False   \n",
       "2224  souness delight at euro progress boss graeme s...     False   \n",
       "\n",
       "      entertainment  politics  sport   tech  \n",
       "0             False     False  False   True  \n",
       "1             False     False  False  False  \n",
       "2             False     False   True  False  \n",
       "3             False     False   True  False  \n",
       "4              True     False  False  False  \n",
       "...             ...       ...    ...    ...  \n",
       "2220          False     False  False  False  \n",
       "2221          False      True  False  False  \n",
       "2222           True     False  False  False  \n",
       "2223          False      True  False  False  \n",
       "2224          False     False   True  False  \n",
       "\n",
       "[2225 rows x 6 columns]"
      ]
     },
     "execution_count": 14,
     "metadata": {},
     "output_type": "execute_result"
    }
   ],
   "source": [
    "category = pd.get_dummies(df.category)\n",
    "df_new = pd.concat([df, category], axis = 1)\n",
    "df_new = df_new.drop(columns = 'category')\n",
    "\n",
    "df_new"
   ]
  },
  {
   "cell_type": "code",
   "execution_count": 15,
   "metadata": {},
   "outputs": [
    {
     "data": {
      "text/html": [
       "<div>\n",
       "<style scoped>\n",
       "    .dataframe tbody tr th:only-of-type {\n",
       "        vertical-align: middle;\n",
       "    }\n",
       "\n",
       "    .dataframe tbody tr th {\n",
       "        vertical-align: top;\n",
       "    }\n",
       "\n",
       "    .dataframe thead th {\n",
       "        text-align: right;\n",
       "    }\n",
       "</style>\n",
       "<table border=\"1\" class=\"dataframe\">\n",
       "  <thead>\n",
       "    <tr style=\"text-align: right;\">\n",
       "      <th></th>\n",
       "      <th>text</th>\n",
       "      <th>business</th>\n",
       "      <th>entertainment</th>\n",
       "      <th>politics</th>\n",
       "      <th>sport</th>\n",
       "      <th>tech</th>\n",
       "    </tr>\n",
       "  </thead>\n",
       "  <tbody>\n",
       "    <tr>\n",
       "      <th>0</th>\n",
       "      <td>tv future in the hands of viewers with home th...</td>\n",
       "      <td>0</td>\n",
       "      <td>0</td>\n",
       "      <td>0</td>\n",
       "      <td>0</td>\n",
       "      <td>1</td>\n",
       "    </tr>\n",
       "    <tr>\n",
       "      <th>1</th>\n",
       "      <td>worldcom boss  left books alone  former worldc...</td>\n",
       "      <td>1</td>\n",
       "      <td>0</td>\n",
       "      <td>0</td>\n",
       "      <td>0</td>\n",
       "      <td>0</td>\n",
       "    </tr>\n",
       "    <tr>\n",
       "      <th>2</th>\n",
       "      <td>tigers wary of farrell  gamble  leicester say ...</td>\n",
       "      <td>0</td>\n",
       "      <td>0</td>\n",
       "      <td>0</td>\n",
       "      <td>1</td>\n",
       "      <td>0</td>\n",
       "    </tr>\n",
       "    <tr>\n",
       "      <th>3</th>\n",
       "      <td>yeading face newcastle in fa cup premiership s...</td>\n",
       "      <td>0</td>\n",
       "      <td>0</td>\n",
       "      <td>0</td>\n",
       "      <td>1</td>\n",
       "      <td>0</td>\n",
       "    </tr>\n",
       "    <tr>\n",
       "      <th>4</th>\n",
       "      <td>ocean s twelve raids box office ocean s twelve...</td>\n",
       "      <td>0</td>\n",
       "      <td>1</td>\n",
       "      <td>0</td>\n",
       "      <td>0</td>\n",
       "      <td>0</td>\n",
       "    </tr>\n",
       "    <tr>\n",
       "      <th>...</th>\n",
       "      <td>...</td>\n",
       "      <td>...</td>\n",
       "      <td>...</td>\n",
       "      <td>...</td>\n",
       "      <td>...</td>\n",
       "      <td>...</td>\n",
       "    </tr>\n",
       "    <tr>\n",
       "      <th>2220</th>\n",
       "      <td>cars pull down us retail figures us retail sal...</td>\n",
       "      <td>1</td>\n",
       "      <td>0</td>\n",
       "      <td>0</td>\n",
       "      <td>0</td>\n",
       "      <td>0</td>\n",
       "    </tr>\n",
       "    <tr>\n",
       "      <th>2221</th>\n",
       "      <td>kilroy unveils immigration policy ex-chatshow ...</td>\n",
       "      <td>0</td>\n",
       "      <td>0</td>\n",
       "      <td>1</td>\n",
       "      <td>0</td>\n",
       "      <td>0</td>\n",
       "    </tr>\n",
       "    <tr>\n",
       "      <th>2222</th>\n",
       "      <td>rem announce new glasgow concert us band rem h...</td>\n",
       "      <td>0</td>\n",
       "      <td>1</td>\n",
       "      <td>0</td>\n",
       "      <td>0</td>\n",
       "      <td>0</td>\n",
       "    </tr>\n",
       "    <tr>\n",
       "      <th>2223</th>\n",
       "      <td>how political squabbles snowball it s become c...</td>\n",
       "      <td>0</td>\n",
       "      <td>0</td>\n",
       "      <td>1</td>\n",
       "      <td>0</td>\n",
       "      <td>0</td>\n",
       "    </tr>\n",
       "    <tr>\n",
       "      <th>2224</th>\n",
       "      <td>souness delight at euro progress boss graeme s...</td>\n",
       "      <td>0</td>\n",
       "      <td>0</td>\n",
       "      <td>0</td>\n",
       "      <td>1</td>\n",
       "      <td>0</td>\n",
       "    </tr>\n",
       "  </tbody>\n",
       "</table>\n",
       "<p>2225 rows × 6 columns</p>\n",
       "</div>"
      ],
      "text/plain": [
       "                                                   text  business  \\\n",
       "0     tv future in the hands of viewers with home th...         0   \n",
       "1     worldcom boss  left books alone  former worldc...         1   \n",
       "2     tigers wary of farrell  gamble  leicester say ...         0   \n",
       "3     yeading face newcastle in fa cup premiership s...         0   \n",
       "4     ocean s twelve raids box office ocean s twelve...         0   \n",
       "...                                                 ...       ...   \n",
       "2220  cars pull down us retail figures us retail sal...         1   \n",
       "2221  kilroy unveils immigration policy ex-chatshow ...         0   \n",
       "2222  rem announce new glasgow concert us band rem h...         0   \n",
       "2223  how political squabbles snowball it s become c...         0   \n",
       "2224  souness delight at euro progress boss graeme s...         0   \n",
       "\n",
       "      entertainment  politics  sport  tech  \n",
       "0                 0         0      0     1  \n",
       "1                 0         0      0     0  \n",
       "2                 0         0      1     0  \n",
       "3                 0         0      1     0  \n",
       "4                 1         0      0     0  \n",
       "...             ...       ...    ...   ...  \n",
       "2220              0         0      0     0  \n",
       "2221              0         1      0     0  \n",
       "2222              1         0      0     0  \n",
       "2223              0         1      0     0  \n",
       "2224              0         0      1     0  \n",
       "\n",
       "[2225 rows x 6 columns]"
      ]
     },
     "execution_count": 15,
     "metadata": {},
     "output_type": "execute_result"
    }
   ],
   "source": [
    "df_baru = df_new.replace({True: 1, False: 0})\n",
    "df_baru"
   ]
  },
  {
   "cell_type": "code",
   "execution_count": 16,
   "metadata": {},
   "outputs": [],
   "source": [
    "def remove_Stopwords(text ):\n",
    "    stop_words = set(stopwords.words('english'))\n",
    "    words = word_tokenize( text.lower() )\n",
    "    sentence = [w for w in words if not w in stop_words]\n",
    "    return \" \".join(sentence)\n",
    "\n",
    "\n",
    "def lemmatize_text(text):\n",
    "    wordlist=[]\n",
    "    lemmatizer = WordNetLemmatizer()\n",
    "    sentences=sent_tokenize(text)\n",
    "    for sentence in sentences:\n",
    "        words=word_tokenize(sentence)\n",
    "        for word in words:\n",
    "            wordlist.append(lemmatizer.lemmatize(word))\n",
    "    return ' '.join(wordlist)\n",
    "\n",
    "def clean_text(text):\n",
    "    delete_dict = {sp_character: '' for sp_character in string.punctuation}\n",
    "    delete_dict[' '] = ' '\n",
    "    table = str.maketrans(delete_dict)\n",
    "    text1 = text.translate(table)\n",
    "    # Remove words starting with \\\n",
    "    text1 = re.sub(r'\\\\\\w*', '', text1)\n",
    "    textArr= text1.split()\n",
    "    text2 = ' '.join([w for w in textArr])\n",
    "\n",
    "    return text2.lower()\n",
    "\n",
    "#code untuk menghilangkan hastag, link, mention\n",
    "def cleanText(text):\n",
    "    text = text.lower()\n",
    "    text = re.sub(r'@[A-Za-z0-9]+', '', text)\n",
    "    text = re.sub(r'#', '', text)\n",
    "    text = re.sub(r'RT[\\s]+', '', text)\n",
    "    text = re.sub(r'https?:\\/\\/\\S+', '', text)\n",
    "    text = re.sub(r'\\n', '', text)\n",
    "    text = re.sub(r'pic.twitter.com', '', text)\n",
    "    text = text.translate(str.maketrans('', '', string.punctuation))\n",
    "    text = re.sub(r'[^a-zA-Z]', ' ', text)\n",
    "    text = re.sub(r'\\s+', ' ', text)\n",
    "    text = re.sub(r'^\\s+|\\s+?$', '', text)\n",
    "    text = text.strip()\n",
    "    return text\n",
    "\n",
    "def stemSentence(text):\n",
    "    porter = PorterStemmer()\n",
    "    token_words=word_tokenize(text)\n",
    "    token_words\n",
    "    stem_sentence=[]\n",
    "    for word in token_words:\n",
    "        stem_sentence.append(porter.stem(word))\n",
    "        stem_sentence.append(\" \")\n",
    "    return \"\".join(stem_sentence)"
   ]
  },
  {
   "cell_type": "code",
   "execution_count": 17,
   "metadata": {},
   "outputs": [
    {
     "data": {
      "text/html": [
       "<div>\n",
       "<style scoped>\n",
       "    .dataframe tbody tr th:only-of-type {\n",
       "        vertical-align: middle;\n",
       "    }\n",
       "\n",
       "    .dataframe tbody tr th {\n",
       "        vertical-align: top;\n",
       "    }\n",
       "\n",
       "    .dataframe thead th {\n",
       "        text-align: right;\n",
       "    }\n",
       "</style>\n",
       "<table border=\"1\" class=\"dataframe\">\n",
       "  <thead>\n",
       "    <tr style=\"text-align: right;\">\n",
       "      <th></th>\n",
       "      <th>text</th>\n",
       "      <th>business</th>\n",
       "      <th>entertainment</th>\n",
       "      <th>politics</th>\n",
       "      <th>sport</th>\n",
       "      <th>tech</th>\n",
       "      <th>new_text</th>\n",
       "      <th>stem_teks</th>\n",
       "      <th>clean_teks</th>\n",
       "    </tr>\n",
       "  </thead>\n",
       "  <tbody>\n",
       "    <tr>\n",
       "      <th>0</th>\n",
       "      <td>tv future in the hands of viewers with home th...</td>\n",
       "      <td>0</td>\n",
       "      <td>0</td>\n",
       "      <td>0</td>\n",
       "      <td>0</td>\n",
       "      <td>1</td>\n",
       "      <td>tv future hand viewer home theatre system plas...</td>\n",
       "      <td>tv futur hand viewer home theatr system plasma...</td>\n",
       "      <td>tv future hand viewer home theatre system plas...</td>\n",
       "    </tr>\n",
       "    <tr>\n",
       "      <th>1</th>\n",
       "      <td>worldcom boss  left books alone  former worldc...</td>\n",
       "      <td>1</td>\n",
       "      <td>0</td>\n",
       "      <td>0</td>\n",
       "      <td>0</td>\n",
       "      <td>0</td>\n",
       "      <td>worldcom bos left book alone former worldcom b...</td>\n",
       "      <td>worldcom bo left book alon former worldcom bo ...</td>\n",
       "      <td>worldcom bos left book alone former worldcom b...</td>\n",
       "    </tr>\n",
       "    <tr>\n",
       "      <th>2</th>\n",
       "      <td>tigers wary of farrell  gamble  leicester say ...</td>\n",
       "      <td>0</td>\n",
       "      <td>0</td>\n",
       "      <td>0</td>\n",
       "      <td>1</td>\n",
       "      <td>0</td>\n",
       "      <td>tiger wary farrell gamble leicester say rushed...</td>\n",
       "      <td>tiger wari farrel gambl leicest say rush make ...</td>\n",
       "      <td>tiger wary farrell gamble leicester say rushed...</td>\n",
       "    </tr>\n",
       "    <tr>\n",
       "      <th>3</th>\n",
       "      <td>yeading face newcastle in fa cup premiership s...</td>\n",
       "      <td>0</td>\n",
       "      <td>0</td>\n",
       "      <td>0</td>\n",
       "      <td>1</td>\n",
       "      <td>0</td>\n",
       "      <td>yeading face newcastle fa cup premiership side...</td>\n",
       "      <td>yead face newcastl fa cup premiership side new...</td>\n",
       "      <td>yeading face newcastle fa cup premiership side...</td>\n",
       "    </tr>\n",
       "    <tr>\n",
       "      <th>4</th>\n",
       "      <td>ocean s twelve raids box office ocean s twelve...</td>\n",
       "      <td>0</td>\n",
       "      <td>1</td>\n",
       "      <td>0</td>\n",
       "      <td>0</td>\n",
       "      <td>0</td>\n",
       "      <td>ocean twelve raid box office ocean twelve crim...</td>\n",
       "      <td>ocean twelv raid box offic ocean twelv crime c...</td>\n",
       "      <td>ocean twelve raid box office ocean twelve crim...</td>\n",
       "    </tr>\n",
       "    <tr>\n",
       "      <th>...</th>\n",
       "      <td>...</td>\n",
       "      <td>...</td>\n",
       "      <td>...</td>\n",
       "      <td>...</td>\n",
       "      <td>...</td>\n",
       "      <td>...</td>\n",
       "      <td>...</td>\n",
       "      <td>...</td>\n",
       "      <td>...</td>\n",
       "    </tr>\n",
       "    <tr>\n",
       "      <th>2220</th>\n",
       "      <td>cars pull down us retail figures us retail sal...</td>\n",
       "      <td>1</td>\n",
       "      <td>0</td>\n",
       "      <td>0</td>\n",
       "      <td>0</td>\n",
       "      <td>0</td>\n",
       "      <td>car pull u retail figure u retail sale fell 03...</td>\n",
       "      <td>car pull u retail figur u retail sale fell 03 ...</td>\n",
       "      <td>car pull u retail figure u retail sale fell ja...</td>\n",
       "    </tr>\n",
       "    <tr>\n",
       "      <th>2221</th>\n",
       "      <td>kilroy unveils immigration policy ex-chatshow ...</td>\n",
       "      <td>0</td>\n",
       "      <td>0</td>\n",
       "      <td>1</td>\n",
       "      <td>0</td>\n",
       "      <td>0</td>\n",
       "      <td>kilroy unveils immigration policy exchatshow h...</td>\n",
       "      <td>kilroy unveil immigr polici exchatshow host ro...</td>\n",
       "      <td>kilroy unveils immigration policy exchatshow h...</td>\n",
       "    </tr>\n",
       "    <tr>\n",
       "      <th>2222</th>\n",
       "      <td>rem announce new glasgow concert us band rem h...</td>\n",
       "      <td>0</td>\n",
       "      <td>1</td>\n",
       "      <td>0</td>\n",
       "      <td>0</td>\n",
       "      <td>0</td>\n",
       "      <td>rem announce new glasgow concert u band rem an...</td>\n",
       "      <td>rem announc new glasgow concert u band rem ann...</td>\n",
       "      <td>rem announce new glasgow concert u band rem an...</td>\n",
       "    </tr>\n",
       "    <tr>\n",
       "      <th>2223</th>\n",
       "      <td>how political squabbles snowball it s become c...</td>\n",
       "      <td>0</td>\n",
       "      <td>0</td>\n",
       "      <td>1</td>\n",
       "      <td>0</td>\n",
       "      <td>0</td>\n",
       "      <td>political squabble snowball become commonplace...</td>\n",
       "      <td>polit squabbl snowbal becom commonplac argu bl...</td>\n",
       "      <td>political squabble snowball become commonplace...</td>\n",
       "    </tr>\n",
       "    <tr>\n",
       "      <th>2224</th>\n",
       "      <td>souness delight at euro progress boss graeme s...</td>\n",
       "      <td>0</td>\n",
       "      <td>0</td>\n",
       "      <td>0</td>\n",
       "      <td>1</td>\n",
       "      <td>0</td>\n",
       "      <td>souness delight euro progress bos graeme soune...</td>\n",
       "      <td>souness delight euro progress bo graem souness...</td>\n",
       "      <td>souness delight euro progress bos graeme soune...</td>\n",
       "    </tr>\n",
       "  </tbody>\n",
       "</table>\n",
       "<p>2225 rows × 9 columns</p>\n",
       "</div>"
      ],
      "text/plain": [
       "                                                   text  business  \\\n",
       "0     tv future in the hands of viewers with home th...         0   \n",
       "1     worldcom boss  left books alone  former worldc...         1   \n",
       "2     tigers wary of farrell  gamble  leicester say ...         0   \n",
       "3     yeading face newcastle in fa cup premiership s...         0   \n",
       "4     ocean s twelve raids box office ocean s twelve...         0   \n",
       "...                                                 ...       ...   \n",
       "2220  cars pull down us retail figures us retail sal...         1   \n",
       "2221  kilroy unveils immigration policy ex-chatshow ...         0   \n",
       "2222  rem announce new glasgow concert us band rem h...         0   \n",
       "2223  how political squabbles snowball it s become c...         0   \n",
       "2224  souness delight at euro progress boss graeme s...         0   \n",
       "\n",
       "      entertainment  politics  sport  tech  \\\n",
       "0                 0         0      0     1   \n",
       "1                 0         0      0     0   \n",
       "2                 0         0      1     0   \n",
       "3                 0         0      1     0   \n",
       "4                 1         0      0     0   \n",
       "...             ...       ...    ...   ...   \n",
       "2220              0         0      0     0   \n",
       "2221              0         1      0     0   \n",
       "2222              1         0      0     0   \n",
       "2223              0         1      0     0   \n",
       "2224              0         0      1     0   \n",
       "\n",
       "                                               new_text  \\\n",
       "0     tv future hand viewer home theatre system plas...   \n",
       "1     worldcom bos left book alone former worldcom b...   \n",
       "2     tiger wary farrell gamble leicester say rushed...   \n",
       "3     yeading face newcastle fa cup premiership side...   \n",
       "4     ocean twelve raid box office ocean twelve crim...   \n",
       "...                                                 ...   \n",
       "2220  car pull u retail figure u retail sale fell 03...   \n",
       "2221  kilroy unveils immigration policy exchatshow h...   \n",
       "2222  rem announce new glasgow concert u band rem an...   \n",
       "2223  political squabble snowball become commonplace...   \n",
       "2224  souness delight euro progress bos graeme soune...   \n",
       "\n",
       "                                              stem_teks  \\\n",
       "0     tv futur hand viewer home theatr system plasma...   \n",
       "1     worldcom bo left book alon former worldcom bo ...   \n",
       "2     tiger wari farrel gambl leicest say rush make ...   \n",
       "3     yead face newcastl fa cup premiership side new...   \n",
       "4     ocean twelv raid box offic ocean twelv crime c...   \n",
       "...                                                 ...   \n",
       "2220  car pull u retail figur u retail sale fell 03 ...   \n",
       "2221  kilroy unveil immigr polici exchatshow host ro...   \n",
       "2222  rem announc new glasgow concert u band rem ann...   \n",
       "2223  polit squabbl snowbal becom commonplac argu bl...   \n",
       "2224  souness delight euro progress bo graem souness...   \n",
       "\n",
       "                                             clean_teks  \n",
       "0     tv future hand viewer home theatre system plas...  \n",
       "1     worldcom bos left book alone former worldcom b...  \n",
       "2     tiger wary farrell gamble leicester say rushed...  \n",
       "3     yeading face newcastle fa cup premiership side...  \n",
       "4     ocean twelve raid box office ocean twelve crim...  \n",
       "...                                                 ...  \n",
       "2220  car pull u retail figure u retail sale fell ja...  \n",
       "2221  kilroy unveils immigration policy exchatshow h...  \n",
       "2222  rem announce new glasgow concert u band rem an...  \n",
       "2223  political squabble snowball become commonplace...  \n",
       "2224  souness delight euro progress bos graeme soune...  \n",
       "\n",
       "[2225 rows x 9 columns]"
      ]
     },
     "execution_count": 17,
     "metadata": {},
     "output_type": "execute_result"
    }
   ],
   "source": [
    "df_baru['new_text'] = df_baru['text'].apply(clean_text)\n",
    "df_baru['new_text'] = df_baru['new_text'].apply(remove_Stopwords)\n",
    "df_baru['new_text'] = df_baru['new_text'].apply(lemmatize_text)\n",
    "df_baru['stem_teks'] = df_baru['new_text'].apply(stemSentence)\n",
    "df_baru['clean_teks'] = df_baru['new_text'].apply(cleanText)\n",
    "\n",
    "df_baru"
   ]
  },
  {
   "cell_type": "code",
   "execution_count": 18,
   "metadata": {},
   "outputs": [
    {
     "data": {
      "text/plain": [
       "'tv future in the hands of viewers with home theatre systems  plasma high-definition tvs  and digital video recorders moving into the living room  the way people watch tv will be radically different in five years  time.  that is according to an expert panel which gathered at the annual consumer electronics show in las vegas to discuss how these new technologies will impact one of our favourite pastimes. with the us leading the trend  programmes and other content will be delivered to viewers via home networks  through cable  satellite  telecoms companies  and broadband service providers to front rooms and portable devices.  one of the most talked-about technologies of ces has been digital and personal video recorders (dvr and pvr). these set-top boxes  like the us s tivo and the uk s sky+ system  allow people to record  store  play  pause and forward wind tv programmes when they want.  essentially  the technology allows for much more personalised tv. they are also being built-in to high-definition tv sets  which are big business in japan and the us  but slower to take off in europe because of the lack of high-definition programming. not only can people forward wind through adverts  they can also forget about abiding by network and channel schedules  putting together their own a-la-carte entertainment. but some us networks and cable and satellite companies are worried about what it means for them in terms of advertising revenues as well as  brand identity  and viewer loyalty to channels. although the us leads in this technology at the moment  it is also a concern that is being raised in europe  particularly with the growing uptake of services like sky+.  what happens here today  we will see in nine months to a years  time in the uk   adam hume  the bbc broadcast s futurologist told the bbc news website. for the likes of the bbc  there are no issues of lost advertising revenue yet. it is a more pressing issue at the moment for commercial uk broadcasters  but brand loyalty is important for everyone.  we will be talking more about content brands rather than network brands   said tim hanlon  from brand communications firm starcom mediavest.  the reality is that with broadband connections  anybody can be the producer of content.  he added:  the challenge now is that it is hard to promote a programme with so much choice.   what this means  said stacey jolna  senior vice president of tv guide tv group  is that the way people find the content they want to watch has to be simplified for tv viewers. it means that networks  in us terms  or channels could take a leaf out of google s book and be the search engine of the future  instead of the scheduler to help people find what they want to watch. this kind of channel model might work for the younger ipod generation which is used to taking control of their gadgets and what they play on them. but it might not suit everyone  the panel recognised. older generations are more comfortable with familiar schedules and channel brands because they know what they are getting. they perhaps do not want so much of the choice put into their hands  mr hanlon suggested.  on the other end  you have the kids just out of diapers who are pushing buttons already - everything is possible and available to them   said mr hanlon.  ultimately  the consumer will tell the market they want.   of the 50 000 new gadgets and technologies being showcased at ces  many of them are about enhancing the tv-watching experience. high-definition tv sets are everywhere and many new models of lcd (liquid crystal display) tvs have been launched with dvr capability built into them  instead of being external boxes. one such example launched at the show is humax s 26-inch lcd tv with an 80-hour tivo dvr and dvd recorder. one of the us s biggest satellite tv companies  directtv  has even launched its own branded dvr at the show with 100-hours of recording capability  instant replay  and a search function. the set can pause and rewind tv for up to 90 hours. and microsoft chief bill gates announced in his pre-show keynote speech a partnership with tivo  called tivotogo  which means people can play recorded programmes on windows pcs and mobile devices. all these reflect the increasing trend of freeing up multimedia so that people can watch what they want  when they want.'"
      ]
     },
     "execution_count": 18,
     "metadata": {},
     "output_type": "execute_result"
    }
   ],
   "source": [
    "df_baru.text[0]"
   ]
  },
  {
   "cell_type": "code",
   "execution_count": 19,
   "metadata": {},
   "outputs": [
    {
     "data": {
      "text/plain": [
       "'tv future hand viewer home theatre system plasma highdefinition tv digital video recorder moving living room way people watch tv radically different five year time according expert panel gathered annual consumer electronics show la vega discus new technology impact one favourite pastime u leading trend programme content delivered viewer via home network cable satellite telecom company broadband service provider front room portable device one talkedabout technology ce digital personal video recorder dvr pvr settop box like u tivo uk sky system allow people record store play pause forward wind tv programme want essentially technology allows much personalised tv also builtin highdefinition tv set big business japan u slower take europe lack highdefinition programming people forward wind advert also forget abiding network channel schedule putting together alacarte entertainment u network cable satellite company worried mean term advertising revenue well brand identity viewer loyalty channel although u lead technology moment also concern raised europe particularly growing uptake service like sky happens today see nine month year time uk adam hume bbc broadcast futurologist told bbc news website like bbc issue lost advertising revenue yet pressing issue moment commercial uk broadcaster brand loyalty important everyone talking content brand rather network brand said tim hanlon brand communication firm starcom mediavest reality broadband connection anybody producer content added challenge hard promote programme much choice mean said stacey jolna senior vice president tv guide tv group way people find content want watch simplified tv viewer mean network u term channel could take leaf google book search engine future instead scheduler help people find want watch kind channel model might work younger ipod generation used taking control gadget play might suit everyone panel recognised older generation comfortable familiar schedule channel brand know getting perhaps want much choice put hand mr hanlon suggested end kid diaper pushing button already everything possible available said mr hanlon ultimately consumer tell market want 50 000 new gadget technology showcased ce many enhancing tvwatching experience highdefinition tv set everywhere many new model lcd liquid crystal display tv launched dvr capability built instead external box one example launched show humax 26inch lcd tv 80hour tivo dvr dvd recorder one u biggest satellite tv company directtv even launched branded dvr show 100hours recording capability instant replay search function set pause rewind tv 90 hour microsoft chief bill gate announced preshow keynote speech partnership tivo called tivotogo mean people play recorded programme window pc mobile device reflect increasing trend freeing multimedia people watch want want'"
      ]
     },
     "execution_count": 19,
     "metadata": {},
     "output_type": "execute_result"
    }
   ],
   "source": [
    "df_baru.new_text[0]"
   ]
  },
  {
   "cell_type": "code",
   "execution_count": 20,
   "metadata": {},
   "outputs": [
    {
     "data": {
      "text/plain": [
       "'tv futur hand viewer home theatr system plasma highdefinit tv digit video record move live room way peopl watch tv radic differ five year time accord expert panel gather annual consum electron show la vega discu new technolog impact one favourit pastim u lead trend programm content deliv viewer via home network cabl satellit telecom compani broadband servic provid front room portabl devic one talkedabout technolog ce digit person video record dvr pvr settop box like u tivo uk sky system allow peopl record store play paus forward wind tv programm want essenti technolog allow much personalis tv also builtin highdefinit tv set big busi japan u slower take europ lack highdefinit program peopl forward wind advert also forget abid network channel schedul put togeth alacart entertain u network cabl satellit compani worri mean term advertis revenu well brand ident viewer loyalti channel although u lead technolog moment also concern rais europ particularli grow uptak servic like sky happen today see nine month year time uk adam hume bbc broadcast futurologist told bbc news websit like bbc issu lost advertis revenu yet press issu moment commerci uk broadcast brand loyalti import everyon talk content brand rather network brand said tim hanlon brand commun firm starcom mediavest realiti broadband connect anybodi produc content ad challeng hard promot programm much choic mean said stacey jolna senior vice presid tv guid tv group way peopl find content want watch simplifi tv viewer mean network u term channel could take leaf googl book search engin futur instead schedul help peopl find want watch kind channel model might work younger ipod gener use take control gadget play might suit everyon panel recognis older gener comfort familiar schedul channel brand know get perhap want much choic put hand mr hanlon suggest end kid diaper push button alreadi everyth possibl avail said mr hanlon ultim consum tell market want 50 000 new gadget technolog showcas ce mani enhanc tvwatch experi highdefinit tv set everywher mani new model lcd liquid crystal display tv launch dvr capabl built instead extern box one exampl launch show humax 26inch lcd tv 80hour tivo dvr dvd record one u biggest satellit tv compani directtv even launch brand dvr show 100hour record capabl instant replay search function set paus rewind tv 90 hour microsoft chief bill gate announc preshow keynot speech partnership tivo call tivotogo mean peopl play record programm window pc mobil devic reflect increas trend free multimedia peopl watch want want '"
      ]
     },
     "execution_count": 20,
     "metadata": {},
     "output_type": "execute_result"
    }
   ],
   "source": [
    "df_baru.stem_teks[0]"
   ]
  },
  {
   "cell_type": "code",
   "execution_count": 21,
   "metadata": {},
   "outputs": [
    {
     "data": {
      "text/plain": [
       "'tv future hand viewer home theatre system plasma highdefinition tv digital video recorder moving living room way people watch tv radically different five year time according expert panel gathered annual consumer electronics show la vega discus new technology impact one favourite pastime u leading trend programme content delivered viewer via home network cable satellite telecom company broadband service provider front room portable device one talkedabout technology ce digital personal video recorder dvr pvr settop box like u tivo uk sky system allow people record store play pause forward wind tv programme want essentially technology allows much personalised tv also builtin highdefinition tv set big business japan u slower take europe lack highdefinition programming people forward wind advert also forget abiding network channel schedule putting together alacarte entertainment u network cable satellite company worried mean term advertising revenue well brand identity viewer loyalty channel although u lead technology moment also concern raised europe particularly growing uptake service like sky happens today see nine month year time uk adam hume bbc broadcast futurologist told bbc news website like bbc issue lost advertising revenue yet pressing issue moment commercial uk broadcaster brand loyalty important everyone talking content brand rather network brand said tim hanlon brand communication firm starcom mediavest reality broadband connection anybody producer content added challenge hard promote programme much choice mean said stacey jolna senior vice president tv guide tv group way people find content want watch simplified tv viewer mean network u term channel could take leaf google book search engine future instead scheduler help people find want watch kind channel model might work younger ipod generation used taking control gadget play might suit everyone panel recognised older generation comfortable familiar schedule channel brand know getting perhaps want much choice put hand mr hanlon suggested end kid diaper pushing button already everything possible available said mr hanlon ultimately consumer tell market want new gadget technology showcased ce many enhancing tvwatching experience highdefinition tv set everywhere many new model lcd liquid crystal display tv launched dvr capability built instead external box one example launched show humax inch lcd tv hour tivo dvr dvd recorder one u biggest satellite tv company directtv even launched branded dvr show hours recording capability instant replay search function set pause rewind tv hour microsoft chief bill gate announced preshow keynote speech partnership tivo called tivotogo mean people play recorded programme window pc mobile device reflect increasing trend freeing multimedia people watch want want'"
      ]
     },
     "execution_count": 21,
     "metadata": {},
     "output_type": "execute_result"
    }
   ],
   "source": [
    "df_baru.clean_teks[0]"
   ]
  },
  {
   "cell_type": "code",
   "execution_count": 22,
   "metadata": {},
   "outputs": [
    {
     "data": {
      "text/plain": [
       "(15827,\n",
       " Index(['text', 'business', 'entertainment', 'politics', 'sport', 'tech',\n",
       "        'new_text', 'stem_teks', 'clean_teks'],\n",
       "       dtype='object'))"
      ]
     },
     "execution_count": 22,
     "metadata": {},
     "output_type": "execute_result"
    }
   ],
   "source": [
    "length = df_baru['clean_teks'].str.len().max()\n",
    "length, df_baru.columns"
   ]
  },
  {
   "cell_type": "code",
   "execution_count": 23,
   "metadata": {},
   "outputs": [
    {
     "data": {
      "text/plain": [
       "(array([[1, 0, 0, 0, 0],\n",
       "        [0, 1, 0, 0, 0],\n",
       "        [0, 0, 1, 0, 0],\n",
       "        ...,\n",
       "        [0, 0, 0, 1, 0],\n",
       "        [0, 0, 0, 0, 1],\n",
       "        [0, 0, 1, 0, 0]], dtype=int64),\n",
       " array(['tv future hand viewer home theatre system plasma highdefinition tv digital video recorder moving living room way people watch tv radically different five year time according expert panel gathered annual consumer electronics show la vega discus new technology impact one favourite pastime u leading trend programme content delivered viewer via home network cable satellite telecom company broadband service provider front room portable device one talkedabout technology ce digital personal video recorder dvr pvr settop box like u tivo uk sky system allow people record store play pause forward wind tv programme want essentially technology allows much personalised tv also builtin highdefinition tv set big business japan u slower take europe lack highdefinition programming people forward wind advert also forget abiding network channel schedule putting together alacarte entertainment u network cable satellite company worried mean term advertising revenue well brand identity viewer loyalty channel although u lead technology moment also concern raised europe particularly growing uptake service like sky happens today see nine month year time uk adam hume bbc broadcast futurologist told bbc news website like bbc issue lost advertising revenue yet pressing issue moment commercial uk broadcaster brand loyalty important everyone talking content brand rather network brand said tim hanlon brand communication firm starcom mediavest reality broadband connection anybody producer content added challenge hard promote programme much choice mean said stacey jolna senior vice president tv guide tv group way people find content want watch simplified tv viewer mean network u term channel could take leaf google book search engine future instead scheduler help people find want watch kind channel model might work younger ipod generation used taking control gadget play might suit everyone panel recognised older generation comfortable familiar schedule channel brand know getting perhaps want much choice put hand mr hanlon suggested end kid diaper pushing button already everything possible available said mr hanlon ultimately consumer tell market want new gadget technology showcased ce many enhancing tvwatching experience highdefinition tv set everywhere many new model lcd liquid crystal display tv launched dvr capability built instead external box one example launched show humax inch lcd tv hour tivo dvr dvd recorder one u biggest satellite tv company directtv even launched branded dvr show hours recording capability instant replay search function set pause rewind tv hour microsoft chief bill gate announced preshow keynote speech partnership tivo called tivotogo mean people play recorded programme window pc mobile device reflect increasing trend freeing multimedia people watch want want',\n",
       "        'worldcom bos left book alone former worldcom bos bernie ebbers accused overseeing bn bn fraud never made accounting decision witness told juror david myers made comment questioning defence lawyer arguing mr ebbers responsible worldcom problem phone company collapsed prosecutor claim loss hidden protect firm share mr myers already pleaded guilty fraud assisting prosecutor monday defence lawyer reid weingarten tried distance client allegation cross examination asked mr myers ever knew mr ebbers make accounting decision aware mr myers replied ever know mr ebbers make accounting entry worldcom book mr weingarten pressed replied witness mr myers admitted ordered false accounting entry request former worldcom chief financial officer scott sullivan defence lawyer trying paint mr sullivan admitted fraud testify later trial mastermind behind worldcom accounting house card mr ebbers team meanwhile looking portray affable bos admission pe graduate economist whatever ability mr ebbers transformed worldcom relative unknown bn telecom giant investor darling late s worldcom problem mounted however competition increased telecom boom petered firm finally collapsed shareholder lost bn worker lost job mr ebbers trial expected last two month found guilty former ceo face substantial jail sentence firmly declared innocence',\n",
       "        'tiger wary farrell gamble leicester say rushed making bid andy farrell great britain rugby league captain decide switch code anybody else involved process still way away going next stage tiger bos john well told bbc radio leicester moment still lot unknown andy farrell least medical situation whoever take going take big big gamble farrell persistent knee problem operation knee five week ago expected another three month leicester saracen believed head list rugby union club interested signing farrell decides move man game move across union well belief would better playing back least initially sure could make step league union involved centre said well think england would prefer progress position back row make use rugby league skill within forward jury whether cross divide club balance struck cost gamble option bringing readymade replacement',\n",
       "        ...,\n",
       "        'rem announce new glasgow concert u band rem announced plan perform scottish fan rescheduled gig band play dubbed europe biggest tent glasgow green tuesday june forced pull concert secc glasgow last month bassist mike mill contracted flu fan bought ticket original february show attend rescheduled concert june gig act warmup rem open air concert balloch castle country park bank loch lomond four day later promoter regular music booked glasgow green secc available suitable date mark mackie director regular music said fantastic news really show rem commitment scottish fan coming back glasgow truly unique gig rem gig kickstart promise memorable summer scottish music lover grammy award winner u play hampden june oasis also perform national stadium glasgow june coldplay announced concert bellahouston park glasgow july park held balado near kinross july ticketweb secc box office write customer bought ticket february gig asking want attend new show bought ticket person urged return point purchase anyone make concert given refund cutoff date swapping ticket april remaining go sale public',\n",
       "        'political squabble snowball become commonplace argue blair brown like squabbling school kid supporter need grow stop bickering analysis fact get wrong child fight adult solid reason even trivial argument mature protagonist hard stop got going key feature endless feud everyone agree better ended everyone want last word participant genuinely want row stop think worth prolonging argument tiny bit ensure view heard successive attempt end argument last word ensure argument go case mr blair mr brown successive book published ensuring issue never die participant stupid actually individual behaving entirely rationally given incentive facing indeed even piece economic theory explains nothing obscure postneoclassical endogenous growth theory chancellor quoted ubiquitous piece game theory respectable policy wonk familiar often referred prisoner dilemma based parable much told economics degree course sheriff two prisoner story go two prisoner jointly charged heinous crime locked separate cell sheriff desperately need confession least one provide enough evidence convict crime without confession prisoner get minimal sentence trumped charge clearly prisoner best strategy keep mouth shut take short sentence clever sheriff idea induce talk tell prisoner separately confess one confess let crime tell confess one confess get life prisoner confronted choice best bet confess partner confess get completely partner confess better confess ensure get life result course prisoner confess sheriff let either one prisoner individual logic behave way even though would better somehow agreed shut worry entirely follow look google entry prisoner dilemma ramification truly captured economist last couple decade parable used describe situation obvious sensible choice taken collectively rational choice individually behave selfishly cold war arm race example classic case russia america would better arm rather lot arm long want arm arm race ensues result individually logical decision buy arm result arm level high economics tell u prisoner dilemma unless repeating experience many time hard escape perverse logic good exhorting people stop buying arm stop arguing incentive encourage carry somehow incentive change case labour party believe rift blair brown camp bad report suggest solomon wisdom need deployed solve problem every parent know ingenious solution argument solution affect incentive participant example famous rule one divide chooses way allocating piece cake sliced greedy child case apparently endless argument want come end ensure person last word one loses rather one win row cost prolonging row even one briefing one book matter exceed benefit last word getting point rest party enforce protagonist retreating pretty quickly',\n",
       "        'souness delight euro progress bos graeme souness felt newcastle never really danger going uefa cup heerenveen early goal followed alan shearer strike earned win place uefa cup last obviously winning first leg gave u great advantage said aggregate victory got goal early mind player job done got goal perhaps made u bit nervous shearer goal moved within jackie milburn club scoring record magpie souness said think beating record would bearing decision retire end season think got year would want stay next year anyway added struck ball well always done think power pace beat goalkeeper souness also paid tribute laurent robert heart much united attacking play first half really well everything want wide player future please said'],\n",
       "       dtype=object))"
      ]
     },
     "execution_count": 23,
     "metadata": {},
     "output_type": "execute_result"
    }
   ],
   "source": [
    "teks = df_baru['clean_teks'].values\n",
    "label = df_baru[['tech', 'business', 'sport', 'entertainment', 'politics']].values\n",
    "label, teks"
   ]
  },
  {
   "cell_type": "code",
   "execution_count": 24,
   "metadata": {},
   "outputs": [],
   "source": [
    "teks_train, teks_test, label_train, label_test = train_test_split(teks, label, test_size = 0.2)"
   ]
  },
  {
   "cell_type": "code",
   "execution_count": 25,
   "metadata": {},
   "outputs": [],
   "source": [
    "tokenizer = Tokenizer(num_words = 10000, oov_token = '<OOV>')\n",
    "# tokenizer = Tokenizer(num_words = 5000, oov_token = 'x')\n",
    "tokenizer.fit_on_texts(teks_train)\n",
    "tokenizer.fit_on_texts(teks_test)"
   ]
  },
  {
   "cell_type": "code",
   "execution_count": 26,
   "metadata": {},
   "outputs": [],
   "source": [
    "sequences_train = tokenizer.texts_to_sequences(teks_train)\n",
    "sequences_test = tokenizer.texts_to_sequences(teks_test)"
   ]
  },
  {
   "cell_type": "code",
   "execution_count": 27,
   "metadata": {},
   "outputs": [
    {
     "data": {
      "text/plain": [
       "217"
      ]
     },
     "execution_count": 27,
     "metadata": {},
     "output_type": "execute_result"
    }
   ],
   "source": [
    "# maxlen = max(len(sequence) for sequence in sequences_train)\n",
    "maxlen = int(sum(len(sequence) for sequence in sequences_train) / len(sequences_train))\n",
    "# maxlen = int(np.percentile([len(sequence) for sequence in sequences_train], 90))\n",
    "maxlen"
   ]
  },
  {
   "cell_type": "code",
   "execution_count": 28,
   "metadata": {},
   "outputs": [
    {
     "data": {
      "text/plain": [
       "array([[ 719, 1121, 2872, ...,  111,  539,   61],\n",
       "       [9520, 1200,  474, ...,    0,    0,    0],\n",
       "       [3328,  513,    1, ...,    0,    0,    0],\n",
       "       ...,\n",
       "       [ 181,  338,  329, ...,    0,    0,    0],\n",
       "       [  71, 1818, 7035, ...,    1,   17,  796],\n",
       "       [1716,  262, 2532, ...,    0,    0,    0]])"
      ]
     },
     "execution_count": 28,
     "metadata": {},
     "output_type": "execute_result"
    }
   ],
   "source": [
    "padded_train = pad_sequences(sequences=sequences_train,\n",
    "                             maxlen = maxlen,\n",
    "                             padding = 'post',\n",
    "                             truncating = 'post')\n",
    "padded_test = pad_sequences(sequences=sequences_test,\n",
    "                            maxlen = maxlen,\n",
    "                            padding = 'post',\n",
    "                            truncating = 'post')\n",
    "\n",
    "padded_train"
   ]
  },
  {
   "cell_type": "code",
   "execution_count": 30,
   "metadata": {},
   "outputs": [
    {
     "name": "stdout",
     "output_type": "stream",
     "text": [
      "WARNING:tensorflow:From c:\\Users\\ASUS\\AppData\\Local\\Programs\\Python\\Python310\\lib\\site-packages\\keras\\src\\optimizers\\__init__.py:309: The name tf.train.Optimizer is deprecated. Please use tf.compat.v1.train.Optimizer instead.\n",
      "\n"
     ]
    }
   ],
   "source": [
    "model = tf.keras.Sequential([\n",
    "    tf.keras.layers.Embedding(input_dim=10000, output_dim=256, input_length=maxlen),\n",
    "    tf.keras.layers.LSTM(512),\n",
    "    tf.keras.layers.Dense(512, activation='relu'),\n",
    "    tf.keras.layers.Dense(254, activation='relu'),\n",
    "    tf.keras.layers.Dense(128, activation= 'relu'),\n",
    "    tf.keras.layers.Dense(5, activation='softmax')\n",
    "])\n",
    "\n",
    "#compile\n",
    "\n",
    "model.compile(loss ='categorical_crossentropy',\n",
    "              optimizer = 'adam',\n",
    "              metrics = ['accuracy'])"
   ]
  },
  {
   "cell_type": "code",
   "execution_count": 31,
   "metadata": {},
   "outputs": [
    {
     "name": "stdout",
     "output_type": "stream",
     "text": [
      "Model: \"sequential_1\"\n",
      "_________________________________________________________________\n",
      " Layer (type)                Output Shape              Param #   \n",
      "=================================================================\n",
      " embedding_1 (Embedding)     (None, 217, 256)          2560000   \n",
      "                                                                 \n",
      " lstm_1 (LSTM)               (None, 512)               1574912   \n",
      "                                                                 \n",
      " dense_4 (Dense)             (None, 512)               262656    \n",
      "                                                                 \n",
      " dense_5 (Dense)             (None, 254)               130302    \n",
      "                                                                 \n",
      " dense_6 (Dense)             (None, 128)               32640     \n",
      "                                                                 \n",
      " dense_7 (Dense)             (None, 5)                 645       \n",
      "                                                                 \n",
      "=================================================================\n",
      "Total params: 4561155 (17.40 MB)\n",
      "Trainable params: 4561155 (17.40 MB)\n",
      "Non-trainable params: 0 (0.00 Byte)\n",
      "_________________________________________________________________\n"
     ]
    }
   ],
   "source": [
    "#cek model\n",
    "\n",
    "model.summary()"
   ]
  },
  {
   "cell_type": "code",
   "execution_count": 32,
   "metadata": {},
   "outputs": [
    {
     "name": "stdout",
     "output_type": "stream",
     "text": [
      "Epoch 1/100\n",
      "WARNING:tensorflow:From c:\\Users\\ASUS\\AppData\\Local\\Programs\\Python\\Python310\\lib\\site-packages\\keras\\src\\utils\\tf_utils.py:492: The name tf.ragged.RaggedTensorValue is deprecated. Please use tf.compat.v1.ragged.RaggedTensorValue instead.\n",
      "\n",
      "WARNING:tensorflow:From c:\\Users\\ASUS\\AppData\\Local\\Programs\\Python\\Python310\\lib\\site-packages\\keras\\src\\engine\\base_layer_utils.py:384: The name tf.executing_eagerly_outside_functions is deprecated. Please use tf.compat.v1.executing_eagerly_outside_functions instead.\n",
      "\n",
      "30/30 [==============================] - 147s 5s/step - loss: 1.5216 - accuracy: 0.3042 - val_loss: 1.4747 - val_accuracy: 0.2764 - lr: 0.0010\n",
      "Epoch 2/100\n",
      "30/30 [==============================] - 97s 3s/step - loss: 1.4499 - accuracy: 0.4096 - val_loss: 1.3671 - val_accuracy: 0.3888 - lr: 0.0010\n",
      "Epoch 3/100\n",
      "30/30 [==============================] - 86s 3s/step - loss: 1.1706 - accuracy: 0.4434 - val_loss: 1.1742 - val_accuracy: 0.4427 - lr: 0.0010\n",
      "Epoch 4/100\n",
      "30/30 [==============================] - 88s 3s/step - loss: 1.0302 - accuracy: 0.4945 - val_loss: 1.3793 - val_accuracy: 0.3730 - lr: 0.0010\n",
      "Epoch 5/100\n",
      "30/30 [==============================] - ETA: 0s - loss: 1.2184 - accuracy: 0.4851\n",
      "Epoch 5: ReduceLROnPlateau reducing learning rate to 0.00020000000949949026.\n",
      "30/30 [==============================] - 89s 3s/step - loss: 1.2184 - accuracy: 0.4851 - val_loss: 1.2840 - val_accuracy: 0.4045 - lr: 0.0010\n",
      "Epoch 6/100\n",
      "30/30 [==============================] - 89s 3s/step - loss: 0.9638 - accuracy: 0.5406 - val_loss: 1.2200 - val_accuracy: 0.4427 - lr: 2.0000e-04\n",
      "Epoch 7/100\n",
      "30/30 [==============================] - 89s 3s/step - loss: 0.8924 - accuracy: 0.5715 - val_loss: 1.0250 - val_accuracy: 0.4989 - lr: 2.0000e-04\n",
      "Epoch 8/100\n",
      "30/30 [==============================] - 89s 3s/step - loss: 0.8268 - accuracy: 0.5708 - val_loss: 1.0036 - val_accuracy: 0.5034 - lr: 2.0000e-04\n",
      "Epoch 9/100\n",
      "30/30 [==============================] - 90s 3s/step - loss: 0.8063 - accuracy: 0.5907 - val_loss: 0.9533 - val_accuracy: 0.5528 - lr: 2.0000e-04\n",
      "Epoch 10/100\n",
      "30/30 [==============================] - 89s 3s/step - loss: 0.7482 - accuracy: 0.6402 - val_loss: 0.8825 - val_accuracy: 0.5798 - lr: 2.0000e-04\n",
      "Epoch 11/100\n",
      "30/30 [==============================] - 89s 3s/step - loss: 0.7407 - accuracy: 0.6470 - val_loss: 0.9603 - val_accuracy: 0.5461 - lr: 2.0000e-04\n",
      "Epoch 12/100\n",
      "30/30 [==============================] - 89s 3s/step - loss: 0.6960 - accuracy: 0.6680 - val_loss: 0.8807 - val_accuracy: 0.6180 - lr: 2.0000e-04\n",
      "Epoch 13/100\n",
      "30/30 [==============================] - 90s 3s/step - loss: 0.7555 - accuracy: 0.6727 - val_loss: 0.9456 - val_accuracy: 0.5393 - lr: 2.0000e-04\n",
      "Epoch 14/100\n",
      "30/30 [==============================] - ETA: 0s - loss: 0.7411 - accuracy: 0.6172\n",
      "Epoch 14: ReduceLROnPlateau reducing learning rate to 4.0000001899898055e-05.\n",
      "30/30 [==============================] - 89s 3s/step - loss: 0.7411 - accuracy: 0.6172 - val_loss: 0.8895 - val_accuracy: 0.5730 - lr: 2.0000e-04\n",
      "Epoch 15/100\n",
      "30/30 [==============================] - 89s 3s/step - loss: 0.6992 - accuracy: 0.6583 - val_loss: 0.8846 - val_accuracy: 0.5753 - lr: 4.0000e-05\n",
      "Epoch 16/100\n",
      "30/30 [==============================] - ETA: 0s - loss: 0.6931 - accuracy: 0.6625\n",
      "Epoch 16: ReduceLROnPlateau reducing learning rate to 8.000000525498762e-06.\n",
      "30/30 [==============================] - 90s 3s/step - loss: 0.6931 - accuracy: 0.6625 - val_loss: 0.8810 - val_accuracy: 0.5753 - lr: 4.0000e-05\n",
      "Epoch 16: early stopping\n"
     ]
    }
   ],
   "source": [
    "#Callback Function\n",
    "class accCallback(Callback):\n",
    "   def on_epoch_end(self, epoch, logs={}):\n",
    "        if(logs.get('accuracy') >= 0.98 and logs.get('val_accuracy') >= 0.98):\n",
    "            print(\"\\nAccuracy and Val_Accuracy has reached 98%!\", \"\\nEpoch: \", epoch)\n",
    "            self.model.stop_training = True\n",
    "\n",
    "callbacks = accCallback()\n",
    "\n",
    "auto_reduction_LR = ReduceLROnPlateau(\n",
    "    monitor = 'val_accuracy',\n",
    "    patience = 2, #setelah 2 epoch, jika tidak ada kenaikan maka LR berkurang\n",
    "    verbose = 1,\n",
    "    factor = 0.2,\n",
    "    min_lr = 0.000003\n",
    ")\n",
    "\n",
    "auto_stop_learn = EarlyStopping(\n",
    "    monitor = 'val_accuracy',\n",
    "    min_delta = 0,\n",
    "    patience = 4,\n",
    "    verbose = 1,\n",
    "    mode = 'auto'\n",
    ")\n",
    "\n",
    "#latih model\n",
    "history = model.fit(padded_train, label_train,\n",
    "                    epochs = 100,\n",
    "                    batch_size=128,\n",
    "                    steps_per_epoch = 30,\n",
    "                    validation_data = (padded_test, label_test),\n",
    "                    verbose = 1,\n",
    "                    callbacks=[callbacks, auto_reduction_LR, auto_stop_learn],\n",
    "                    )"
   ]
  },
  {
   "cell_type": "code",
   "execution_count": 33,
   "metadata": {},
   "outputs": [
    {
     "data": {
      "image/png": "[encoded data removed]",
      "text/plain": [
       "<Figure size 700x400 with 1 Axes>"
      ]
     },
     "metadata": {},
     "output_type": "display_data"
    }
   ],
   "source": [
    "  #plotting\n",
    "\n",
    "pd.DataFrame(history.history).plot(figsize=(7, 4))\n",
    "plt.grid(True)\n",
    "plt.gca().set_ylim(0,3) #sumbu y\n",
    "\n",
    "plt.show()"
   ]
  },
  {
   "cell_type": "code",
   "execution_count": 35,
   "metadata": {},
   "outputs": [
    {
     "data": {
      "text/plain": [
       "Counter({4: 413, 2: 413, 1: 413, 3: 413, 0: 413})"
      ]
     },
     "execution_count": 35,
     "metadata": {},
     "output_type": "execute_result"
    }
   ],
   "source": [
    "import numpy as np\n",
    "from imblearn.over_sampling import RandomOverSampler\n",
    "from imblearn.over_sampling import SMOTE\n",
    "from collections import Counter\n",
    "\n",
    "sm = SMOTE(random_state = 42)\n",
    "X_res, y_res = sm.fit_resample(padded_train, label_train)\n",
    "\n",
    "Counter(np.argmax(y_res, axis = 1))"
   ]
  },
  {
   "cell_type": "code",
   "execution_count": 36,
   "metadata": {},
   "outputs": [],
   "source": [
    "#compile\n",
    "model.compile(loss ='categorical_crossentropy',\n",
    "              optimizer = 'adam',\n",
    "              metrics = ['accuracy'])"
   ]
  },
  {
   "cell_type": "code",
   "execution_count": 37,
   "metadata": {},
   "outputs": [
    {
     "name": "stdout",
     "output_type": "stream",
     "text": [
      "Epoch 1/100\n",
      "30/30 [==============================] - 89s 3s/step - loss: 1.2331 - accuracy: 0.4763 - val_loss: 1.3427 - val_accuracy: 0.4022 - lr: 0.0010\n",
      "Epoch 2/100\n",
      "30/30 [==============================] - 84s 3s/step - loss: 1.0627 - accuracy: 0.5066 - val_loss: 1.2382 - val_accuracy: 0.4562 - lr: 0.0010\n",
      "Epoch 3/100\n",
      "30/30 [==============================] - 86s 3s/step - loss: 1.0244 - accuracy: 0.5591 - val_loss: 1.4077 - val_accuracy: 0.3640 - lr: 0.0010\n",
      "Epoch 4/100\n",
      "30/30 [==============================] - 85s 3s/step - loss: 0.9777 - accuracy: 0.5614 - val_loss: 1.2215 - val_accuracy: 0.4809 - lr: 0.0010\n",
      "Epoch 5/100\n",
      "30/30 [==============================] - 88s 3s/step - loss: 0.8566 - accuracy: 0.6015 - val_loss: 1.3210 - val_accuracy: 0.4629 - lr: 0.0010\n",
      "Epoch 6/100\n",
      "30/30 [==============================] - ETA: 0s - loss: 0.8543 - accuracy: 0.5981\n",
      "Epoch 6: ReduceLROnPlateau reducing learning rate to 0.00020000000949949026.\n",
      "30/30 [==============================] - 85s 3s/step - loss: 0.8543 - accuracy: 0.5981 - val_loss: 1.4134 - val_accuracy: 0.4427 - lr: 0.0010\n",
      "Epoch 7/100\n",
      "30/30 [==============================] - 85s 3s/step - loss: 0.8529 - accuracy: 0.5937 - val_loss: 1.3890 - val_accuracy: 0.4472 - lr: 2.0000e-04\n",
      "Epoch 8/100\n",
      "30/30 [==============================] - 85s 3s/step - loss: 0.8327 - accuracy: 0.6147 - val_loss: 1.3172 - val_accuracy: 0.5191 - lr: 2.0000e-04\n",
      "Epoch 9/100\n",
      "30/30 [==============================] - 87s 3s/step - loss: 0.7494 - accuracy: 0.6444 - val_loss: 1.2205 - val_accuracy: 0.5281 - lr: 2.0000e-04\n",
      "Epoch 10/100\n",
      "30/30 [==============================] - 85s 3s/step - loss: 0.7055 - accuracy: 0.6611 - val_loss: 1.2042 - val_accuracy: 0.5393 - lr: 2.0000e-04\n",
      "Epoch 11/100\n",
      "30/30 [==============================] - 84s 3s/step - loss: 0.7977 - accuracy: 0.6437 - val_loss: 1.4062 - val_accuracy: 0.5236 - lr: 2.0000e-04\n",
      "Epoch 12/100\n",
      "30/30 [==============================] - 84s 3s/step - loss: 0.7286 - accuracy: 0.6935 - val_loss: 1.2506 - val_accuracy: 0.5596 - lr: 2.0000e-04\n",
      "Epoch 13/100\n",
      "30/30 [==============================] - 87s 3s/step - loss: 0.6731 - accuracy: 0.7176 - val_loss: 1.1351 - val_accuracy: 0.6472 - lr: 2.0000e-04\n",
      "Epoch 14/100\n",
      "30/30 [==============================] - 84s 3s/step - loss: 0.3717 - accuracy: 0.8817 - val_loss: 0.8388 - val_accuracy: 0.7573 - lr: 2.0000e-04\n",
      "Epoch 15/100\n",
      "30/30 [==============================] - 83s 3s/step - loss: 0.3790 - accuracy: 0.8767 - val_loss: 0.7983 - val_accuracy: 0.7753 - lr: 2.0000e-04\n",
      "Epoch 16/100\n",
      "30/30 [==============================] - 83s 3s/step - loss: 0.2167 - accuracy: 0.9389 - val_loss: 0.7605 - val_accuracy: 0.8202 - lr: 2.0000e-04\n",
      "Epoch 17/100\n",
      "30/30 [==============================] - 82s 3s/step - loss: 0.2003 - accuracy: 0.9453 - val_loss: 0.7947 - val_accuracy: 0.8135 - lr: 2.0000e-04\n",
      "Epoch 18/100\n",
      "30/30 [==============================] - ETA: 0s - loss: 0.2675 - accuracy: 0.9276\n",
      "Epoch 18: ReduceLROnPlateau reducing learning rate to 4.0000001899898055e-05.\n",
      "30/30 [==============================] - 84s 3s/step - loss: 0.2675 - accuracy: 0.9276 - val_loss: 0.7389 - val_accuracy: 0.8067 - lr: 2.0000e-04\n",
      "Epoch 19/100\n",
      "30/30 [==============================] - 82s 3s/step - loss: 0.1587 - accuracy: 0.9544 - val_loss: 0.7712 - val_accuracy: 0.8315 - lr: 4.0000e-05\n",
      "Epoch 20/100\n",
      "30/30 [==============================] - 82s 3s/step - loss: 0.1072 - accuracy: 0.9726 - val_loss: 0.7103 - val_accuracy: 0.8494 - lr: 4.0000e-05\n",
      "Epoch 21/100\n",
      "30/30 [==============================] - 83s 3s/step - loss: 0.0851 - accuracy: 0.9771 - val_loss: 0.7175 - val_accuracy: 0.8517 - lr: 4.0000e-05\n",
      "Epoch 22/100\n",
      "30/30 [==============================] - 84s 3s/step - loss: 0.0781 - accuracy: 0.9791 - val_loss: 0.7568 - val_accuracy: 0.8427 - lr: 4.0000e-05\n",
      "Epoch 23/100\n",
      "30/30 [==============================] - ETA: 0s - loss: 0.0686 - accuracy: 0.9804\n",
      "Epoch 23: ReduceLROnPlateau reducing learning rate to 8.000000525498762e-06.\n",
      "30/30 [==============================] - 82s 3s/step - loss: 0.0686 - accuracy: 0.9804 - val_loss: 0.7780 - val_accuracy: 0.8337 - lr: 4.0000e-05\n",
      "Epoch 24/100\n",
      "30/30 [==============================] - 82s 3s/step - loss: 0.0687 - accuracy: 0.9804 - val_loss: 0.7625 - val_accuracy: 0.8449 - lr: 8.0000e-06\n",
      "Epoch 25/100\n",
      "30/30 [==============================] - ETA: 0s - loss: 0.0623 - accuracy: 0.9818\n",
      "Epoch 25: ReduceLROnPlateau reducing learning rate to 3e-06.\n",
      "30/30 [==============================] - 84s 3s/step - loss: 0.0623 - accuracy: 0.9818 - val_loss: 0.7477 - val_accuracy: 0.8494 - lr: 8.0000e-06\n",
      "Epoch 25: early stopping\n"
     ]
    }
   ],
   "source": [
    "new_history = model.fit(X_res, y_res,\n",
    "                         batch_size = 128,\n",
    "                    steps_per_epoch = 30,\n",
    "                    epochs = 100,\n",
    "                    validation_data = (padded_test, label_test),\n",
    "                    verbose = 1,\n",
    "                    callbacks=[callbacks, auto_reduction_LR, auto_stop_learn],\n",
    "                    )"
   ]
  },
  {
   "cell_type": "code",
   "execution_count": 38,
   "metadata": {},
   "outputs": [
    {
     "data": {
      "image/png": "[encoded data removed]",
      "text/plain": [
       "<Figure size 640x480 with 2 Axes>"
      ]
     },
     "metadata": {},
     "output_type": "display_data"
    }
   ],
   "source": [
    "# plot loss\n",
    "plt.subplot(211)\n",
    "plt.title('Loss')\n",
    "plt.plot(new_history.history['loss'], label='train')\n",
    "plt.plot(new_history.history['val_loss'], label='test')\n",
    "plt.legend()\n",
    "\n",
    "# plot accuracy\n",
    "plt.subplot(212)\n",
    "plt.title('Accuracy')\n",
    "plt.plot(new_history.history['accuracy'], label='train')\n",
    "plt.plot(new_history.history['val_accuracy'], label='test')\n",
    "plt.legend()\n",
    "plt.show()\n"
   ]
  },
  {
   "cell_type": "code",
   "execution_count": 39,
   "metadata": {},
   "outputs": [
    {
     "name": "stdout",
     "output_type": "stream",
     "text": [
      "1/1 [==============================] - 1s 560ms/step\n"
     ]
    },
    {
     "data": {
      "text/plain": [
       "array([[1.2910833e-05, 9.8909140e-01, 6.8493276e-03, 9.6713135e-04,\n",
       "        3.0792095e-03]], dtype=float32)"
      ]
     },
     "execution_count": 39,
     "metadata": {},
     "output_type": "execute_result"
    }
   ],
   "source": [
    "# sanity check\n",
    "sentence = [\"'trend new yorker encount empti supermarket shelf pictur wegman brooklyn soldout onlin grocer foodkick maxdeliveri coronavirusfear shopper stock httpstcogr76pcrlwh httpstcoivmkmsqdt1'\"]\n",
    "sequence = tokenizer.texts_to_sequences(sentence)\n",
    "padded = pad_sequences(sequence, maxlen=maxlen, padding='post', truncating='post')\n",
    "pred = model.predict(padded)\n",
    "pred"
   ]
  },
  {
   "cell_type": "code",
   "execution_count": 41,
   "metadata": {},
   "outputs": [
    {
     "name": "stdout",
     "output_type": "stream",
     "text": [
      "14/14 [==============================] - 4s 304ms/step\n"
     ]
    },
    {
     "data": {
      "text/html": [
       "<div>\n",
       "<style scoped>\n",
       "    .dataframe tbody tr th:only-of-type {\n",
       "        vertical-align: middle;\n",
       "    }\n",
       "\n",
       "    .dataframe tbody tr th {\n",
       "        vertical-align: top;\n",
       "    }\n",
       "\n",
       "    .dataframe thead th {\n",
       "        text-align: right;\n",
       "    }\n",
       "</style>\n",
       "<table border=\"1\" class=\"dataframe\">\n",
       "  <thead>\n",
       "    <tr style=\"text-align: right;\">\n",
       "      <th></th>\n",
       "      <th>actual</th>\n",
       "      <th>prediction</th>\n",
       "      <th>text</th>\n",
       "    </tr>\n",
       "  </thead>\n",
       "  <tbody>\n",
       "    <tr>\n",
       "      <th>0</th>\n",
       "      <td>business</td>\n",
       "      <td>business</td>\n",
       "      <td>economy strong election year uk business set p...</td>\n",
       "    </tr>\n",
       "    <tr>\n",
       "      <th>1</th>\n",
       "      <td>tech</td>\n",
       "      <td>tech</td>\n",
       "      <td>intel unveils laser breakthrough intel said fo...</td>\n",
       "    </tr>\n",
       "    <tr>\n",
       "      <th>2</th>\n",
       "      <td>sport</td>\n",
       "      <td>sport</td>\n",
       "      <td>dal maso replace bergamasco david dal maso han...</td>\n",
       "    </tr>\n",
       "    <tr>\n",
       "      <th>3</th>\n",
       "      <td>entertainment</td>\n",
       "      <td>entertainment</td>\n",
       "      <td>tautou star da vinci film french actress audre...</td>\n",
       "    </tr>\n",
       "    <tr>\n",
       "      <th>4</th>\n",
       "      <td>sport</td>\n",
       "      <td>sport</td>\n",
       "      <td>dundee utd aberdeen dundee united eased semifi...</td>\n",
       "    </tr>\n",
       "    <tr>\n",
       "      <th>...</th>\n",
       "      <td>...</td>\n",
       "      <td>...</td>\n",
       "      <td>...</td>\n",
       "    </tr>\n",
       "    <tr>\n",
       "      <th>440</th>\n",
       "      <td>sport</td>\n",
       "      <td>sport</td>\n",
       "      <td>holmes back form birmingham double olympic cha...</td>\n",
       "    </tr>\n",
       "    <tr>\n",
       "      <th>441</th>\n",
       "      <td>tech</td>\n",
       "      <td>sport</td>\n",
       "      <td>piero give rugby perspective bbc sport unveils...</td>\n",
       "    </tr>\n",
       "    <tr>\n",
       "      <th>442</th>\n",
       "      <td>business</td>\n",
       "      <td>entertainment</td>\n",
       "      <td>car pull u retail figure u retail sale fell ja...</td>\n",
       "    </tr>\n",
       "    <tr>\n",
       "      <th>443</th>\n",
       "      <td>entertainment</td>\n",
       "      <td>entertainment</td>\n",
       "      <td>howl help boost japan cinema japan box office ...</td>\n",
       "    </tr>\n",
       "    <tr>\n",
       "      <th>444</th>\n",
       "      <td>business</td>\n",
       "      <td>business</td>\n",
       "      <td>german growth go reverse germany economy shran...</td>\n",
       "    </tr>\n",
       "  </tbody>\n",
       "</table>\n",
       "<p>445 rows × 3 columns</p>\n",
       "</div>"
      ],
      "text/plain": [
       "            actual     prediction  \\\n",
       "0         business       business   \n",
       "1             tech           tech   \n",
       "2            sport          sport   \n",
       "3    entertainment  entertainment   \n",
       "4            sport          sport   \n",
       "..             ...            ...   \n",
       "440          sport          sport   \n",
       "441           tech          sport   \n",
       "442       business  entertainment   \n",
       "443  entertainment  entertainment   \n",
       "444       business       business   \n",
       "\n",
       "                                                  text  \n",
       "0    economy strong election year uk business set p...  \n",
       "1    intel unveils laser breakthrough intel said fo...  \n",
       "2    dal maso replace bergamasco david dal maso han...  \n",
       "3    tautou star da vinci film french actress audre...  \n",
       "4    dundee utd aberdeen dundee united eased semifi...  \n",
       "..                                                 ...  \n",
       "440  holmes back form birmingham double olympic cha...  \n",
       "441  piero give rugby perspective bbc sport unveils...  \n",
       "442  car pull u retail figure u retail sale fell ja...  \n",
       "443  howl help boost japan cinema japan box office ...  \n",
       "444  german growth go reverse germany economy shran...  \n",
       "\n",
       "[445 rows x 3 columns]"
      ]
     },
     "execution_count": 41,
     "metadata": {},
     "output_type": "execute_result"
    }
   ],
   "source": [
    "# sanity check actual vs prediction\n",
    "y_pred = model.predict(padded_test)\n",
    "y_pred = np.argmax(y_pred, axis = 1)\n",
    "y_test = np.argmax(label_test, axis = 1)\n",
    "\n",
    "class_names = ['tech', 'business', 'sport', 'entertainment', 'politics']\n",
    "actual = [class_names[i] for i in y_test]\n",
    "prediction = [class_names[i] for i in y_pred]\n",
    "\n",
    "# # data frame actual vs prediction include text\n",
    "df_pred = pd.DataFrame({'actual': actual, 'prediction': prediction, 'text': teks_test})\n",
    "df_pred"
   ]
  }
 ],
 "metadata": {
  "kernelspec": {
   "display_name": "Python 3",
   "language": "python",
   "name": "python3"
  },
  "language_info": {
   "codemirror_mode": {
    "name": "ipython",
    "version": 3
   },
   "file_extension": ".py",
   "mimetype": "text/x-python",
   "name": "python",
   "nbconvert_exporter": "python",
   "pygments_lexer": "ipython3",
   "version": "3.10.5"
  }
 },
 "nbformat": 4,
 "nbformat_minor": 2
}
