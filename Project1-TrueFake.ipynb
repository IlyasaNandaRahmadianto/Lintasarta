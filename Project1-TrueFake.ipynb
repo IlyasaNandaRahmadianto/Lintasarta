{
 "cells": [
  {
   "cell_type": "markdown",
   "metadata": {},
   "source": [
    "# Proyek Pertama : Membuat Model NLP dengan TensorFlow\n",
    "\n",
    "- Nama : Ilyasa Nanda Rahmadianto\n",
    "- Username : [ilyasanara16](https://www.dicoding.com/users/ilyasanara16/academies)\n",
    "### Berikut kriteria submission yang harus Anda penuhi:\n",
    "1. Dataset yang akan dipakai bebas, namun minimal memiliki 1000 sampel.\n",
    "\n",
    "2. Harus menggunakan LSTM dalam arsitektur model.\n",
    "\n",
    "3. Harus menggunakan model sequential.\n",
    "\n",
    "4. Validation set sebesar 20% dari total dataset.\n",
    "\n",
    "5. Harus menggunakan Embedding.\n",
    "\n",
    "6. Harus menggunakan fungsi tokenizer.\n",
    "\n",
    "7. Akurasi dari model minimal 75% pada train set dan validation set.\n",
    "\n",
    "Klik link untuk mengunduh [Dataset](https://www.kaggle.com/datasets/bhavikjikadara/fake-news-detection/data?sort=votes)\n"
   ]
  },
  {
   "cell_type": "code",
   "execution_count": 1,
   "metadata": {},
   "outputs": [
    {
     "name": "stdout",
     "output_type": "stream",
     "text": [
      "WARNING:tensorflow:From c:\\Users\\ASUS\\AppData\\Local\\Programs\\Python\\Python310\\lib\\site-packages\\keras\\src\\losses.py:2976: The name tf.losses.sparse_softmax_cross_entropy is deprecated. Please use tf.compat.v1.losses.sparse_softmax_cross_entropy instead.\n",
      "\n"
     ]
    },
    {
     "name": "stderr",
     "output_type": "stream",
     "text": [
      "[nltk_data] Downloading package punkt to\n",
      "[nltk_data]     C:\\Users\\ASUS\\AppData\\Roaming\\nltk_data...\n",
      "[nltk_data]   Package punkt is already up-to-date!\n",
      "[nltk_data] Downloading package stopwords to\n",
      "[nltk_data]     C:\\Users\\ASUS\\AppData\\Roaming\\nltk_data...\n",
      "[nltk_data]   Package stopwords is already up-to-date!\n",
      "[nltk_data] Downloading package wordnet to\n",
      "[nltk_data]     C:\\Users\\ASUS\\AppData\\Roaming\\nltk_data...\n",
      "[nltk_data]   Package wordnet is already up-to-date!\n",
      "[nltk_data] Downloading package omw-1.4 to\n",
      "[nltk_data]     C:\\Users\\ASUS\\AppData\\Roaming\\nltk_data...\n",
      "[nltk_data]   Package omw-1.4 is already up-to-date!\n"
     ]
    }
   ],
   "source": [
    "import pandas as pd\n",
    "import numpy as np\n",
    "import matplotlib.pyplot as plt\n",
    "import seaborn as sns\n",
    "import tensorflow as tf\n",
    "from sklearn.model_selection import train_test_split\n",
    "\n",
    "# text processing\n",
    "import nltk\n",
    "nltk.download('punkt')\n",
    "nltk.download('stopwords')\n",
    "nltk.download('wordnet')\n",
    "nltk.download('omw-1.4')\n",
    "from nltk.tokenize import word_tokenize\n",
    "from nltk.tokenize import sent_tokenize\n",
    "from nltk.stem import WordNetLemmatizer\n",
    "from nltk.corpus import stopwords\n",
    "stopwords.words('english')\n",
    "import string\n",
    "string.punctuation\n",
    "from nltk.stem.porter import PorterStemmer\n",
    "import re\n",
    "\n",
    "# utils\n",
    "from tensorflow.keras.preprocessing.text import Tokenizer\n",
    "from tensorflow.keras.preprocessing.sequence import pad_sequences\n",
    "from tensorflow.keras.callbacks import Callback, ReduceLROnPlateau, EarlyStopping"
   ]
  },
  {
   "cell_type": "markdown",
   "metadata": {},
   "source": [
    "## Understanding Dataset"
   ]
  },
  {
   "cell_type": "code",
   "execution_count": 3,
   "metadata": {},
   "outputs": [],
   "source": [
    "fake = pd.read_csv('C:/Users/ASUS/Downloads/TUGASKU/Dicoding/Lintasarta/Project1-MembuatModelNLPdenganTensorFlow/fake.csv')\n",
    "true = pd.read_csv('C:/Users/ASUS/Downloads/TUGASKU/Dicoding/Lintasarta/Project1-MembuatModelNLPdenganTensorFlow/true.csv')"
   ]
  },
  {
   "cell_type": "code",
   "execution_count": 5,
   "metadata": {},
   "outputs": [
    {
     "data": {
      "text/html": [
       "<div>\n",
       "<style scoped>\n",
       "    .dataframe tbody tr th:only-of-type {\n",
       "        vertical-align: middle;\n",
       "    }\n",
       "\n",
       "    .dataframe tbody tr th {\n",
       "        vertical-align: top;\n",
       "    }\n",
       "\n",
       "    .dataframe thead th {\n",
       "        text-align: right;\n",
       "    }\n",
       "</style>\n",
       "<table border=\"1\" class=\"dataframe\">\n",
       "  <thead>\n",
       "    <tr style=\"text-align: right;\">\n",
       "      <th></th>\n",
       "      <th>title</th>\n",
       "      <th>text</th>\n",
       "      <th>subject</th>\n",
       "      <th>date</th>\n",
       "      <th>label</th>\n",
       "    </tr>\n",
       "  </thead>\n",
       "  <tbody>\n",
       "    <tr>\n",
       "      <th>0</th>\n",
       "      <td>Donald Trump Sends Out Embarrassing New Year’...</td>\n",
       "      <td>Donald Trump just couldn t wish all Americans ...</td>\n",
       "      <td>News</td>\n",
       "      <td>December 31, 2017</td>\n",
       "      <td>1</td>\n",
       "    </tr>\n",
       "    <tr>\n",
       "      <th>1</th>\n",
       "      <td>Drunk Bragging Trump Staffer Started Russian ...</td>\n",
       "      <td>House Intelligence Committee Chairman Devin Nu...</td>\n",
       "      <td>News</td>\n",
       "      <td>December 31, 2017</td>\n",
       "      <td>1</td>\n",
       "    </tr>\n",
       "    <tr>\n",
       "      <th>2</th>\n",
       "      <td>Sheriff David Clarke Becomes An Internet Joke...</td>\n",
       "      <td>On Friday, it was revealed that former Milwauk...</td>\n",
       "      <td>News</td>\n",
       "      <td>December 30, 2017</td>\n",
       "      <td>1</td>\n",
       "    </tr>\n",
       "    <tr>\n",
       "      <th>3</th>\n",
       "      <td>Trump Is So Obsessed He Even Has Obama’s Name...</td>\n",
       "      <td>On Christmas day, Donald Trump announced that ...</td>\n",
       "      <td>News</td>\n",
       "      <td>December 29, 2017</td>\n",
       "      <td>1</td>\n",
       "    </tr>\n",
       "    <tr>\n",
       "      <th>4</th>\n",
       "      <td>Pope Francis Just Called Out Donald Trump Dur...</td>\n",
       "      <td>Pope Francis used his annual Christmas Day mes...</td>\n",
       "      <td>News</td>\n",
       "      <td>December 25, 2017</td>\n",
       "      <td>1</td>\n",
       "    </tr>\n",
       "  </tbody>\n",
       "</table>\n",
       "</div>"
      ],
      "text/plain": [
       "                                               title  \\\n",
       "0   Donald Trump Sends Out Embarrassing New Year’...   \n",
       "1   Drunk Bragging Trump Staffer Started Russian ...   \n",
       "2   Sheriff David Clarke Becomes An Internet Joke...   \n",
       "3   Trump Is So Obsessed He Even Has Obama’s Name...   \n",
       "4   Pope Francis Just Called Out Donald Trump Dur...   \n",
       "\n",
       "                                                text subject  \\\n",
       "0  Donald Trump just couldn t wish all Americans ...    News   \n",
       "1  House Intelligence Committee Chairman Devin Nu...    News   \n",
       "2  On Friday, it was revealed that former Milwauk...    News   \n",
       "3  On Christmas day, Donald Trump announced that ...    News   \n",
       "4  Pope Francis used his annual Christmas Day mes...    News   \n",
       "\n",
       "                date  label  \n",
       "0  December 31, 2017      1  \n",
       "1  December 31, 2017      1  \n",
       "2  December 30, 2017      1  \n",
       "3  December 29, 2017      1  \n",
       "4  December 25, 2017      1  "
      ]
     },
     "execution_count": 5,
     "metadata": {},
     "output_type": "execute_result"
    }
   ],
   "source": [
    "fake['label'] = 1\n",
    "true['label'] = 0\n",
    "fake.head()"
   ]
  },
  {
   "cell_type": "code",
   "execution_count": 6,
   "metadata": {},
   "outputs": [
    {
     "data": {
      "text/html": [
       "<div>\n",
       "<style scoped>\n",
       "    .dataframe tbody tr th:only-of-type {\n",
       "        vertical-align: middle;\n",
       "    }\n",
       "\n",
       "    .dataframe tbody tr th {\n",
       "        vertical-align: top;\n",
       "    }\n",
       "\n",
       "    .dataframe thead th {\n",
       "        text-align: right;\n",
       "    }\n",
       "</style>\n",
       "<table border=\"1\" class=\"dataframe\">\n",
       "  <thead>\n",
       "    <tr style=\"text-align: right;\">\n",
       "      <th></th>\n",
       "      <th>title</th>\n",
       "      <th>text</th>\n",
       "      <th>subject</th>\n",
       "      <th>date</th>\n",
       "      <th>label</th>\n",
       "    </tr>\n",
       "  </thead>\n",
       "  <tbody>\n",
       "    <tr>\n",
       "      <th>0</th>\n",
       "      <td>As U.S. budget fight looms, Republicans flip t...</td>\n",
       "      <td>WASHINGTON (Reuters) - The head of a conservat...</td>\n",
       "      <td>politicsNews</td>\n",
       "      <td>December 31, 2017</td>\n",
       "      <td>0</td>\n",
       "    </tr>\n",
       "    <tr>\n",
       "      <th>1</th>\n",
       "      <td>U.S. military to accept transgender recruits o...</td>\n",
       "      <td>WASHINGTON (Reuters) - Transgender people will...</td>\n",
       "      <td>politicsNews</td>\n",
       "      <td>December 29, 2017</td>\n",
       "      <td>0</td>\n",
       "    </tr>\n",
       "    <tr>\n",
       "      <th>2</th>\n",
       "      <td>Senior U.S. Republican senator: 'Let Mr. Muell...</td>\n",
       "      <td>WASHINGTON (Reuters) - The special counsel inv...</td>\n",
       "      <td>politicsNews</td>\n",
       "      <td>December 31, 2017</td>\n",
       "      <td>0</td>\n",
       "    </tr>\n",
       "    <tr>\n",
       "      <th>3</th>\n",
       "      <td>FBI Russia probe helped by Australian diplomat...</td>\n",
       "      <td>WASHINGTON (Reuters) - Trump campaign adviser ...</td>\n",
       "      <td>politicsNews</td>\n",
       "      <td>December 30, 2017</td>\n",
       "      <td>0</td>\n",
       "    </tr>\n",
       "    <tr>\n",
       "      <th>4</th>\n",
       "      <td>Trump wants Postal Service to charge 'much mor...</td>\n",
       "      <td>SEATTLE/WASHINGTON (Reuters) - President Donal...</td>\n",
       "      <td>politicsNews</td>\n",
       "      <td>December 29, 2017</td>\n",
       "      <td>0</td>\n",
       "    </tr>\n",
       "  </tbody>\n",
       "</table>\n",
       "</div>"
      ],
      "text/plain": [
       "                                               title  \\\n",
       "0  As U.S. budget fight looms, Republicans flip t...   \n",
       "1  U.S. military to accept transgender recruits o...   \n",
       "2  Senior U.S. Republican senator: 'Let Mr. Muell...   \n",
       "3  FBI Russia probe helped by Australian diplomat...   \n",
       "4  Trump wants Postal Service to charge 'much mor...   \n",
       "\n",
       "                                                text       subject  \\\n",
       "0  WASHINGTON (Reuters) - The head of a conservat...  politicsNews   \n",
       "1  WASHINGTON (Reuters) - Transgender people will...  politicsNews   \n",
       "2  WASHINGTON (Reuters) - The special counsel inv...  politicsNews   \n",
       "3  WASHINGTON (Reuters) - Trump campaign adviser ...  politicsNews   \n",
       "4  SEATTLE/WASHINGTON (Reuters) - President Donal...  politicsNews   \n",
       "\n",
       "                 date  label  \n",
       "0  December 31, 2017       0  \n",
       "1  December 29, 2017       0  \n",
       "2  December 31, 2017       0  \n",
       "3  December 30, 2017       0  \n",
       "4  December 29, 2017       0  "
      ]
     },
     "execution_count": 6,
     "metadata": {},
     "output_type": "execute_result"
    }
   ],
   "source": [
    "true.head()"
   ]
  },
  {
   "cell_type": "code",
   "execution_count": 9,
   "metadata": {},
   "outputs": [
    {
     "data": {
      "text/html": [
       "<div>\n",
       "<style scoped>\n",
       "    .dataframe tbody tr th:only-of-type {\n",
       "        vertical-align: middle;\n",
       "    }\n",
       "\n",
       "    .dataframe tbody tr th {\n",
       "        vertical-align: top;\n",
       "    }\n",
       "\n",
       "    .dataframe thead th {\n",
       "        text-align: right;\n",
       "    }\n",
       "</style>\n",
       "<table border=\"1\" class=\"dataframe\">\n",
       "  <thead>\n",
       "    <tr style=\"text-align: right;\">\n",
       "      <th></th>\n",
       "      <th>title</th>\n",
       "      <th>text</th>\n",
       "      <th>subject</th>\n",
       "      <th>date</th>\n",
       "      <th>label</th>\n",
       "    </tr>\n",
       "  </thead>\n",
       "  <tbody>\n",
       "    <tr>\n",
       "      <th>0</th>\n",
       "      <td>Donald Trump Sends Out Embarrassing New Year’...</td>\n",
       "      <td>Donald Trump just couldn t wish all Americans ...</td>\n",
       "      <td>News</td>\n",
       "      <td>December 31, 2017</td>\n",
       "      <td>1</td>\n",
       "    </tr>\n",
       "    <tr>\n",
       "      <th>1</th>\n",
       "      <td>Drunk Bragging Trump Staffer Started Russian ...</td>\n",
       "      <td>House Intelligence Committee Chairman Devin Nu...</td>\n",
       "      <td>News</td>\n",
       "      <td>December 31, 2017</td>\n",
       "      <td>1</td>\n",
       "    </tr>\n",
       "    <tr>\n",
       "      <th>2</th>\n",
       "      <td>Sheriff David Clarke Becomes An Internet Joke...</td>\n",
       "      <td>On Friday, it was revealed that former Milwauk...</td>\n",
       "      <td>News</td>\n",
       "      <td>December 30, 2017</td>\n",
       "      <td>1</td>\n",
       "    </tr>\n",
       "    <tr>\n",
       "      <th>3</th>\n",
       "      <td>Trump Is So Obsessed He Even Has Obama’s Name...</td>\n",
       "      <td>On Christmas day, Donald Trump announced that ...</td>\n",
       "      <td>News</td>\n",
       "      <td>December 29, 2017</td>\n",
       "      <td>1</td>\n",
       "    </tr>\n",
       "    <tr>\n",
       "      <th>4</th>\n",
       "      <td>Pope Francis Just Called Out Donald Trump Dur...</td>\n",
       "      <td>Pope Francis used his annual Christmas Day mes...</td>\n",
       "      <td>News</td>\n",
       "      <td>December 25, 2017</td>\n",
       "      <td>1</td>\n",
       "    </tr>\n",
       "    <tr>\n",
       "      <th>...</th>\n",
       "      <td>...</td>\n",
       "      <td>...</td>\n",
       "      <td>...</td>\n",
       "      <td>...</td>\n",
       "      <td>...</td>\n",
       "    </tr>\n",
       "    <tr>\n",
       "      <th>21412</th>\n",
       "      <td>'Fully committed' NATO backs new U.S. approach...</td>\n",
       "      <td>BRUSSELS (Reuters) - NATO allies on Tuesday we...</td>\n",
       "      <td>worldnews</td>\n",
       "      <td>August 22, 2017</td>\n",
       "      <td>0</td>\n",
       "    </tr>\n",
       "    <tr>\n",
       "      <th>21413</th>\n",
       "      <td>LexisNexis withdrew two products from Chinese ...</td>\n",
       "      <td>LONDON (Reuters) - LexisNexis, a provider of l...</td>\n",
       "      <td>worldnews</td>\n",
       "      <td>August 22, 2017</td>\n",
       "      <td>0</td>\n",
       "    </tr>\n",
       "    <tr>\n",
       "      <th>21414</th>\n",
       "      <td>Minsk cultural hub becomes haven from authorities</td>\n",
       "      <td>MINSK (Reuters) - In the shadow of disused Sov...</td>\n",
       "      <td>worldnews</td>\n",
       "      <td>August 22, 2017</td>\n",
       "      <td>0</td>\n",
       "    </tr>\n",
       "    <tr>\n",
       "      <th>21415</th>\n",
       "      <td>Vatican upbeat on possibility of Pope Francis ...</td>\n",
       "      <td>MOSCOW (Reuters) - Vatican Secretary of State ...</td>\n",
       "      <td>worldnews</td>\n",
       "      <td>August 22, 2017</td>\n",
       "      <td>0</td>\n",
       "    </tr>\n",
       "    <tr>\n",
       "      <th>21416</th>\n",
       "      <td>Indonesia to buy $1.14 billion worth of Russia...</td>\n",
       "      <td>JAKARTA (Reuters) - Indonesia will buy 11 Sukh...</td>\n",
       "      <td>worldnews</td>\n",
       "      <td>August 22, 2017</td>\n",
       "      <td>0</td>\n",
       "    </tr>\n",
       "  </tbody>\n",
       "</table>\n",
       "<p>44898 rows × 5 columns</p>\n",
       "</div>"
      ],
      "text/plain": [
       "                                                   title  \\\n",
       "0       Donald Trump Sends Out Embarrassing New Year’...   \n",
       "1       Drunk Bragging Trump Staffer Started Russian ...   \n",
       "2       Sheriff David Clarke Becomes An Internet Joke...   \n",
       "3       Trump Is So Obsessed He Even Has Obama’s Name...   \n",
       "4       Pope Francis Just Called Out Donald Trump Dur...   \n",
       "...                                                  ...   \n",
       "21412  'Fully committed' NATO backs new U.S. approach...   \n",
       "21413  LexisNexis withdrew two products from Chinese ...   \n",
       "21414  Minsk cultural hub becomes haven from authorities   \n",
       "21415  Vatican upbeat on possibility of Pope Francis ...   \n",
       "21416  Indonesia to buy $1.14 billion worth of Russia...   \n",
       "\n",
       "                                                    text    subject  \\\n",
       "0      Donald Trump just couldn t wish all Americans ...       News   \n",
       "1      House Intelligence Committee Chairman Devin Nu...       News   \n",
       "2      On Friday, it was revealed that former Milwauk...       News   \n",
       "3      On Christmas day, Donald Trump announced that ...       News   \n",
       "4      Pope Francis used his annual Christmas Day mes...       News   \n",
       "...                                                  ...        ...   \n",
       "21412  BRUSSELS (Reuters) - NATO allies on Tuesday we...  worldnews   \n",
       "21413  LONDON (Reuters) - LexisNexis, a provider of l...  worldnews   \n",
       "21414  MINSK (Reuters) - In the shadow of disused Sov...  worldnews   \n",
       "21415  MOSCOW (Reuters) - Vatican Secretary of State ...  worldnews   \n",
       "21416  JAKARTA (Reuters) - Indonesia will buy 11 Sukh...  worldnews   \n",
       "\n",
       "                    date  label  \n",
       "0      December 31, 2017      1  \n",
       "1      December 31, 2017      1  \n",
       "2      December 30, 2017      1  \n",
       "3      December 29, 2017      1  \n",
       "4      December 25, 2017      1  \n",
       "...                  ...    ...  \n",
       "21412   August 22, 2017       0  \n",
       "21413   August 22, 2017       0  \n",
       "21414   August 22, 2017       0  \n",
       "21415   August 22, 2017       0  \n",
       "21416   August 22, 2017       0  \n",
       "\n",
       "[44898 rows x 5 columns]"
      ]
     },
     "execution_count": 9,
     "metadata": {},
     "output_type": "execute_result"
    }
   ],
   "source": [
    "df = pd.concat([fake, true])\n",
    "df"
   ]
  },
  {
   "cell_type": "code",
   "execution_count": 10,
   "metadata": {},
   "outputs": [
    {
     "data": {
      "text/plain": [
       "label\n",
       "1    23481\n",
       "0    21417\n",
       "Name: count, dtype: int64"
      ]
     },
     "execution_count": 10,
     "metadata": {},
     "output_type": "execute_result"
    }
   ],
   "source": [
    "df.label.value_counts()"
   ]
  },
  {
   "cell_type": "code",
   "execution_count": 11,
   "metadata": {},
   "outputs": [
    {
     "data": {
      "text/plain": [
       "title      0\n",
       "text       0\n",
       "subject    0\n",
       "date       0\n",
       "label      0\n",
       "dtype: int64"
      ]
     },
     "execution_count": 11,
     "metadata": {},
     "output_type": "execute_result"
    }
   ],
   "source": [
    "df.isna().sum()"
   ]
  },
  {
   "cell_type": "markdown",
   "metadata": {},
   "source": [
    "## Exploratory Data Analysis (EDA)"
   ]
  },
  {
   "cell_type": "code",
   "execution_count": 12,
   "metadata": {},
   "outputs": [
    {
     "data": {
      "text/html": [
       "<div>\n",
       "<style scoped>\n",
       "    .dataframe tbody tr th:only-of-type {\n",
       "        vertical-align: middle;\n",
       "    }\n",
       "\n",
       "    .dataframe tbody tr th {\n",
       "        vertical-align: top;\n",
       "    }\n",
       "\n",
       "    .dataframe thead th {\n",
       "        text-align: right;\n",
       "    }\n",
       "</style>\n",
       "<table border=\"1\" class=\"dataframe\">\n",
       "  <thead>\n",
       "    <tr style=\"text-align: right;\">\n",
       "      <th></th>\n",
       "      <th>title</th>\n",
       "      <th>text</th>\n",
       "      <th>subject</th>\n",
       "      <th>date</th>\n",
       "      <th>label</th>\n",
       "    </tr>\n",
       "  </thead>\n",
       "  <tbody>\n",
       "    <tr>\n",
       "      <th>0</th>\n",
       "      <td>Donald Trump Sends Out Embarrassing New Year’...</td>\n",
       "      <td>Donald Trump just couldn t wish all Americans ...</td>\n",
       "      <td>News</td>\n",
       "      <td>December 31, 2017</td>\n",
       "      <td>1</td>\n",
       "    </tr>\n",
       "    <tr>\n",
       "      <th>1</th>\n",
       "      <td>Drunk Bragging Trump Staffer Started Russian ...</td>\n",
       "      <td>House Intelligence Committee Chairman Devin Nu...</td>\n",
       "      <td>News</td>\n",
       "      <td>December 31, 2017</td>\n",
       "      <td>1</td>\n",
       "    </tr>\n",
       "    <tr>\n",
       "      <th>2</th>\n",
       "      <td>Sheriff David Clarke Becomes An Internet Joke...</td>\n",
       "      <td>On Friday, it was revealed that former Milwauk...</td>\n",
       "      <td>News</td>\n",
       "      <td>December 30, 2017</td>\n",
       "      <td>1</td>\n",
       "    </tr>\n",
       "    <tr>\n",
       "      <th>3</th>\n",
       "      <td>Trump Is So Obsessed He Even Has Obama’s Name...</td>\n",
       "      <td>On Christmas day, Donald Trump announced that ...</td>\n",
       "      <td>News</td>\n",
       "      <td>December 29, 2017</td>\n",
       "      <td>1</td>\n",
       "    </tr>\n",
       "    <tr>\n",
       "      <th>4</th>\n",
       "      <td>Pope Francis Just Called Out Donald Trump Dur...</td>\n",
       "      <td>Pope Francis used his annual Christmas Day mes...</td>\n",
       "      <td>News</td>\n",
       "      <td>December 25, 2017</td>\n",
       "      <td>1</td>\n",
       "    </tr>\n",
       "  </tbody>\n",
       "</table>\n",
       "</div>"
      ],
      "text/plain": [
       "                                               title  \\\n",
       "0   Donald Trump Sends Out Embarrassing New Year’...   \n",
       "1   Drunk Bragging Trump Staffer Started Russian ...   \n",
       "2   Sheriff David Clarke Becomes An Internet Joke...   \n",
       "3   Trump Is So Obsessed He Even Has Obama’s Name...   \n",
       "4   Pope Francis Just Called Out Donald Trump Dur...   \n",
       "\n",
       "                                                text subject  \\\n",
       "0  Donald Trump just couldn t wish all Americans ...    News   \n",
       "1  House Intelligence Committee Chairman Devin Nu...    News   \n",
       "2  On Friday, it was revealed that former Milwauk...    News   \n",
       "3  On Christmas day, Donald Trump announced that ...    News   \n",
       "4  Pope Francis used his annual Christmas Day mes...    News   \n",
       "\n",
       "                date  label  \n",
       "0  December 31, 2017      1  \n",
       "1  December 31, 2017      1  \n",
       "2  December 30, 2017      1  \n",
       "3  December 29, 2017      1  \n",
       "4  December 25, 2017      1  "
      ]
     },
     "execution_count": 12,
     "metadata": {},
     "output_type": "execute_result"
    }
   ],
   "source": [
    "df.head()"
   ]
  },
  {
   "cell_type": "code",
   "execution_count": 14,
   "metadata": {},
   "outputs": [
    {
     "data": {
      "text/html": [
       "<div>\n",
       "<style scoped>\n",
       "    .dataframe tbody tr th:only-of-type {\n",
       "        vertical-align: middle;\n",
       "    }\n",
       "\n",
       "    .dataframe tbody tr th {\n",
       "        vertical-align: top;\n",
       "    }\n",
       "\n",
       "    .dataframe thead th {\n",
       "        text-align: right;\n",
       "    }\n",
       "</style>\n",
       "<table border=\"1\" class=\"dataframe\">\n",
       "  <thead>\n",
       "    <tr style=\"text-align: right;\">\n",
       "      <th></th>\n",
       "      <th>title</th>\n",
       "      <th>text</th>\n",
       "      <th>subject</th>\n",
       "      <th>date</th>\n",
       "      <th>label</th>\n",
       "    </tr>\n",
       "  </thead>\n",
       "  <tbody>\n",
       "    <tr>\n",
       "      <th>0</th>\n",
       "      <td>Iraq PM Abadi expects Islamic State's complete...</td>\n",
       "      <td>BAGHDAD (Reuters) - Islamic State will be comp...</td>\n",
       "      <td>worldnews</td>\n",
       "      <td>October 10, 2017</td>\n",
       "      <td>0</td>\n",
       "    </tr>\n",
       "    <tr>\n",
       "      <th>1</th>\n",
       "      <td>‘Bernie Sanders is on a Mission’</td>\n",
       "      <td>21st Century Wire says But he can he accomplis...</td>\n",
       "      <td>US_News</td>\n",
       "      <td>May 26, 2016</td>\n",
       "      <td>1</td>\n",
       "    </tr>\n",
       "    <tr>\n",
       "      <th>2</th>\n",
       "      <td>'Wave of humanity' puts aid agencies to the te...</td>\n",
       "      <td>DHAKA/KUTUPALONG, Bangladesh (Reuters) - How d...</td>\n",
       "      <td>worldnews</td>\n",
       "      <td>September 29, 2017</td>\n",
       "      <td>0</td>\n",
       "    </tr>\n",
       "    <tr>\n",
       "      <th>3</th>\n",
       "      <td>U.S. candidate Rubio: conditions not right for...</td>\n",
       "      <td>(Reuters) - U.S. Republican presidential candi...</td>\n",
       "      <td>politicsNews</td>\n",
       "      <td>March 11, 2016</td>\n",
       "      <td>0</td>\n",
       "    </tr>\n",
       "    <tr>\n",
       "      <th>4</th>\n",
       "      <td>Australia's former deputy PM wins by-election ...</td>\n",
       "      <td>SYDNEY (Reuters) - Australia s former deputy p...</td>\n",
       "      <td>worldnews</td>\n",
       "      <td>December 2, 2017</td>\n",
       "      <td>0</td>\n",
       "    </tr>\n",
       "    <tr>\n",
       "      <th>...</th>\n",
       "      <td>...</td>\n",
       "      <td>...</td>\n",
       "      <td>...</td>\n",
       "      <td>...</td>\n",
       "      <td>...</td>\n",
       "    </tr>\n",
       "    <tr>\n",
       "      <th>44893</th>\n",
       "      <td>Former CIA chief says he warned Moscow over el...</td>\n",
       "      <td>WASHINGTON (Reuters) - Former CIA Director Joh...</td>\n",
       "      <td>politicsNews</td>\n",
       "      <td>May 23, 2017</td>\n",
       "      <td>0</td>\n",
       "    </tr>\n",
       "    <tr>\n",
       "      <th>44894</th>\n",
       "      <td>The Wahabi Vote: Poll Shows 68 percent of Saud...</td>\n",
       "      <td>21st Century Wire says Another key swing state...</td>\n",
       "      <td>US_News</td>\n",
       "      <td>November 8, 2016</td>\n",
       "      <td>1</td>\n",
       "    </tr>\n",
       "    <tr>\n",
       "      <th>44895</th>\n",
       "      <td>Trump slaps travel restrictions on N.Korea, Ve...</td>\n",
       "      <td>WASHINGTON (Reuters) - President Donald Trump ...</td>\n",
       "      <td>worldnews</td>\n",
       "      <td>September 25, 2017</td>\n",
       "      <td>0</td>\n",
       "    </tr>\n",
       "    <tr>\n",
       "      <th>44896</th>\n",
       "      <td>Grandmas, grandpas from travel ban states now ...</td>\n",
       "      <td>WASHINGTON (Reuters) - Grandparents of U.S. ci...</td>\n",
       "      <td>politicsNews</td>\n",
       "      <td>July 17, 2017</td>\n",
       "      <td>0</td>\n",
       "    </tr>\n",
       "    <tr>\n",
       "      <th>44897</th>\n",
       "      <td>UK PM May: We will not revoke Article 50 EU ex...</td>\n",
       "      <td>LONDON (Reuters) - Britain will not revoke the...</td>\n",
       "      <td>worldnews</td>\n",
       "      <td>October 9, 2017</td>\n",
       "      <td>0</td>\n",
       "    </tr>\n",
       "  </tbody>\n",
       "</table>\n",
       "<p>44898 rows × 5 columns</p>\n",
       "</div>"
      ],
      "text/plain": [
       "                                                   title  \\\n",
       "0      Iraq PM Abadi expects Islamic State's complete...   \n",
       "1                       ‘Bernie Sanders is on a Mission’   \n",
       "2      'Wave of humanity' puts aid agencies to the te...   \n",
       "3      U.S. candidate Rubio: conditions not right for...   \n",
       "4      Australia's former deputy PM wins by-election ...   \n",
       "...                                                  ...   \n",
       "44893  Former CIA chief says he warned Moscow over el...   \n",
       "44894  The Wahabi Vote: Poll Shows 68 percent of Saud...   \n",
       "44895  Trump slaps travel restrictions on N.Korea, Ve...   \n",
       "44896  Grandmas, grandpas from travel ban states now ...   \n",
       "44897  UK PM May: We will not revoke Article 50 EU ex...   \n",
       "\n",
       "                                                    text       subject  \\\n",
       "0      BAGHDAD (Reuters) - Islamic State will be comp...     worldnews   \n",
       "1      21st Century Wire says But he can he accomplis...       US_News   \n",
       "2      DHAKA/KUTUPALONG, Bangladesh (Reuters) - How d...     worldnews   \n",
       "3      (Reuters) - U.S. Republican presidential candi...  politicsNews   \n",
       "4      SYDNEY (Reuters) - Australia s former deputy p...     worldnews   \n",
       "...                                                  ...           ...   \n",
       "44893  WASHINGTON (Reuters) - Former CIA Director Joh...  politicsNews   \n",
       "44894  21st Century Wire says Another key swing state...       US_News   \n",
       "44895  WASHINGTON (Reuters) - President Donald Trump ...     worldnews   \n",
       "44896  WASHINGTON (Reuters) - Grandparents of U.S. ci...  politicsNews   \n",
       "44897  LONDON (Reuters) - Britain will not revoke the...     worldnews   \n",
       "\n",
       "                      date  label  \n",
       "0        October 10, 2017       0  \n",
       "1             May 26, 2016      1  \n",
       "2      September 29, 2017       0  \n",
       "3          March 11, 2016       0  \n",
       "4        December 2, 2017       0  \n",
       "...                    ...    ...  \n",
       "44893        May 23, 2017       0  \n",
       "44894     November 8, 2016      1  \n",
       "44895  September 25, 2017       0  \n",
       "44896       July 17, 2017       0  \n",
       "44897     October 9, 2017       0  \n",
       "\n",
       "[44898 rows x 5 columns]"
      ]
     },
     "execution_count": 14,
     "metadata": {},
     "output_type": "execute_result"
    }
   ],
   "source": [
    "# shuffle dataset karena penggabungannya tidak langsung acak\n",
    "df = df.sample(frac=1).reset_index(drop=True)\n",
    "df"
   ]
  },
  {
   "cell_type": "markdown",
   "metadata": {},
   "source": [
    "## Data Pre-Processing"
   ]
  },
  {
   "cell_type": "code",
   "execution_count": 15,
   "metadata": {},
   "outputs": [
    {
     "data": {
      "text/html": [
       "<div>\n",
       "<style scoped>\n",
       "    .dataframe tbody tr th:only-of-type {\n",
       "        vertical-align: middle;\n",
       "    }\n",
       "\n",
       "    .dataframe tbody tr th {\n",
       "        vertical-align: top;\n",
       "    }\n",
       "\n",
       "    .dataframe thead th {\n",
       "        text-align: right;\n",
       "    }\n",
       "</style>\n",
       "<table border=\"1\" class=\"dataframe\">\n",
       "  <thead>\n",
       "    <tr style=\"text-align: right;\">\n",
       "      <th></th>\n",
       "      <th>title</th>\n",
       "      <th>text</th>\n",
       "      <th>label</th>\n",
       "    </tr>\n",
       "  </thead>\n",
       "  <tbody>\n",
       "    <tr>\n",
       "      <th>0</th>\n",
       "      <td>Iraq PM Abadi expects Islamic State's complete...</td>\n",
       "      <td>BAGHDAD (Reuters) - Islamic State will be comp...</td>\n",
       "      <td>0</td>\n",
       "    </tr>\n",
       "    <tr>\n",
       "      <th>1</th>\n",
       "      <td>‘Bernie Sanders is on a Mission’</td>\n",
       "      <td>21st Century Wire says But he can he accomplis...</td>\n",
       "      <td>1</td>\n",
       "    </tr>\n",
       "    <tr>\n",
       "      <th>2</th>\n",
       "      <td>'Wave of humanity' puts aid agencies to the te...</td>\n",
       "      <td>DHAKA/KUTUPALONG, Bangladesh (Reuters) - How d...</td>\n",
       "      <td>0</td>\n",
       "    </tr>\n",
       "    <tr>\n",
       "      <th>3</th>\n",
       "      <td>U.S. candidate Rubio: conditions not right for...</td>\n",
       "      <td>(Reuters) - U.S. Republican presidential candi...</td>\n",
       "      <td>0</td>\n",
       "    </tr>\n",
       "    <tr>\n",
       "      <th>4</th>\n",
       "      <td>Australia's former deputy PM wins by-election ...</td>\n",
       "      <td>SYDNEY (Reuters) - Australia s former deputy p...</td>\n",
       "      <td>0</td>\n",
       "    </tr>\n",
       "  </tbody>\n",
       "</table>\n",
       "</div>"
      ],
      "text/plain": [
       "                                               title  \\\n",
       "0  Iraq PM Abadi expects Islamic State's complete...   \n",
       "1                   ‘Bernie Sanders is on a Mission’   \n",
       "2  'Wave of humanity' puts aid agencies to the te...   \n",
       "3  U.S. candidate Rubio: conditions not right for...   \n",
       "4  Australia's former deputy PM wins by-election ...   \n",
       "\n",
       "                                                text  label  \n",
       "0  BAGHDAD (Reuters) - Islamic State will be comp...      0  \n",
       "1  21st Century Wire says But he can he accomplis...      1  \n",
       "2  DHAKA/KUTUPALONG, Bangladesh (Reuters) - How d...      0  \n",
       "3  (Reuters) - U.S. Republican presidential candi...      0  \n",
       "4  SYDNEY (Reuters) - Australia s former deputy p...      0  "
      ]
     },
     "execution_count": 15,
     "metadata": {},
     "output_type": "execute_result"
    }
   ],
   "source": [
    "df.drop(['date', 'subject'], axis=1, inplace=True)\n",
    "df.head()"
   ]
  },
  {
   "cell_type": "markdown",
   "metadata": {},
   "source": [
    "### Teks Processing"
   ]
  },
  {
   "cell_type": "code",
   "execution_count": 16,
   "metadata": {},
   "outputs": [
    {
     "data": {
      "text/plain": [
       "'!\"#$%&\\'()*+,-./:;<=>?@[\\\\]^_`{|}~'"
      ]
     },
     "execution_count": 16,
     "metadata": {},
     "output_type": "execute_result"
    }
   ],
   "source": [
    "string.punctuation"
   ]
  },
  {
   "cell_type": "code",
   "execution_count": 17,
   "metadata": {},
   "outputs": [],
   "source": [
    "def remove_Stopwords(text ):\n",
    "    stop_words = set(stopwords.words('english'))\n",
    "    words = word_tokenize( text.lower() )\n",
    "    sentence = [w for w in words if not w in stop_words]\n",
    "    return \" \".join(sentence)\n",
    "\n",
    "\n",
    "def lemmatize_text(text):\n",
    "    wordlist=[]\n",
    "    lemmatizer = WordNetLemmatizer()\n",
    "    sentences=sent_tokenize(text)\n",
    "    for sentence in sentences:\n",
    "        words=word_tokenize(sentence)\n",
    "        for word in words:\n",
    "            wordlist.append(lemmatizer.lemmatize(word))\n",
    "    return ' '.join(wordlist)\n",
    "\n",
    "def clean_text(text):\n",
    "    delete_dict = {sp_character: '' for sp_character in string.punctuation}\n",
    "    delete_dict[' '] = ' '\n",
    "    table = str.maketrans(delete_dict)\n",
    "    text1 = text.translate(table)\n",
    "    # Remove words starting with \\\n",
    "    text1 = re.sub(r'\\\\\\w*', '', text1)\n",
    "    textArr= text1.split()\n",
    "    text2 = ' '.join([w for w in textArr])\n",
    "\n",
    "    return text2.lower()\n",
    "\n",
    "def stemSentence(text):\n",
    "    porter = PorterStemmer()\n",
    "    token_words=word_tokenize(text)\n",
    "    token_words\n",
    "    stem_sentence=[]\n",
    "    for word in token_words:\n",
    "        stem_sentence.append(porter.stem(word))\n",
    "        stem_sentence.append(\" \")\n",
    "    return \"\".join(stem_sentence)"
   ]
  },
  {
   "cell_type": "code",
   "execution_count": 22,
   "metadata": {},
   "outputs": [
    {
     "data": {
      "text/html": [
       "<div>\n",
       "<style scoped>\n",
       "    .dataframe tbody tr th:only-of-type {\n",
       "        vertical-align: middle;\n",
       "    }\n",
       "\n",
       "    .dataframe tbody tr th {\n",
       "        vertical-align: top;\n",
       "    }\n",
       "\n",
       "    .dataframe thead th {\n",
       "        text-align: right;\n",
       "    }\n",
       "</style>\n",
       "<table border=\"1\" class=\"dataframe\">\n",
       "  <thead>\n",
       "    <tr style=\"text-align: right;\">\n",
       "      <th></th>\n",
       "      <th>title</th>\n",
       "      <th>text</th>\n",
       "      <th>label</th>\n",
       "      <th>new_text</th>\n",
       "      <th>new_text(clean)</th>\n",
       "      <th>stem_text</th>\n",
       "    </tr>\n",
       "  </thead>\n",
       "  <tbody>\n",
       "    <tr>\n",
       "      <th>0</th>\n",
       "      <td>Iraq PM Abadi expects Islamic State's complete...</td>\n",
       "      <td>BAGHDAD (Reuters) - Islamic State will be comp...</td>\n",
       "      <td>0</td>\n",
       "      <td>baghdad reuters islamic state completely defea...</td>\n",
       "      <td>baghdad reuter islam state complet defeat iraq...</td>\n",
       "      <td>baghdad reuter islam state complet defeat iraq...</td>\n",
       "    </tr>\n",
       "    <tr>\n",
       "      <th>1</th>\n",
       "      <td>‘Bernie Sanders is on a Mission’</td>\n",
       "      <td>21st Century Wire says But he can he accomplis...</td>\n",
       "      <td>1</td>\n",
       "      <td>21st century wire say accomplish objectivein f...</td>\n",
       "      <td>21st centuri wire say accomplish objectivein f...</td>\n",
       "      <td>21st centuri wire say accomplish objectivein f...</td>\n",
       "    </tr>\n",
       "    <tr>\n",
       "      <th>2</th>\n",
       "      <td>'Wave of humanity' puts aid agencies to the te...</td>\n",
       "      <td>DHAKA/KUTUPALONG, Bangladesh (Reuters) - How d...</td>\n",
       "      <td>0</td>\n",
       "      <td>dhakakutupalong bangladesh reuters feed shelte...</td>\n",
       "      <td>dhakakutupalong bangladesh reuter feed shelter...</td>\n",
       "      <td>dhakakutupalong bangladesh reuter feed shelter...</td>\n",
       "    </tr>\n",
       "    <tr>\n",
       "      <th>3</th>\n",
       "      <td>U.S. candidate Rubio: conditions not right for...</td>\n",
       "      <td>(Reuters) - U.S. Republican presidential candi...</td>\n",
       "      <td>0</td>\n",
       "      <td>reuters u republican presidential candidate ma...</td>\n",
       "      <td>reuter u republican presidenti candid marco ru...</td>\n",
       "      <td>reuter u republican presidenti candid marco ru...</td>\n",
       "    </tr>\n",
       "    <tr>\n",
       "      <th>4</th>\n",
       "      <td>Australia's former deputy PM wins by-election ...</td>\n",
       "      <td>SYDNEY (Reuters) - Australia s former deputy p...</td>\n",
       "      <td>0</td>\n",
       "      <td>sydney reuters australia former deputy prime m...</td>\n",
       "      <td>sydney reuter australia former deputi prime mi...</td>\n",
       "      <td>sydney reuter australia former deputi prime mi...</td>\n",
       "    </tr>\n",
       "    <tr>\n",
       "      <th>...</th>\n",
       "      <td>...</td>\n",
       "      <td>...</td>\n",
       "      <td>...</td>\n",
       "      <td>...</td>\n",
       "      <td>...</td>\n",
       "      <td>...</td>\n",
       "    </tr>\n",
       "    <tr>\n",
       "      <th>44893</th>\n",
       "      <td>Former CIA chief says he warned Moscow over el...</td>\n",
       "      <td>WASHINGTON (Reuters) - Former CIA Director Joh...</td>\n",
       "      <td>0</td>\n",
       "      <td>washington reuters former cia director john br...</td>\n",
       "      <td>washington reuter former cia director john bre...</td>\n",
       "      <td>washington reuter former cia director john bre...</td>\n",
       "    </tr>\n",
       "    <tr>\n",
       "      <th>44894</th>\n",
       "      <td>The Wahabi Vote: Poll Shows 68 percent of Saud...</td>\n",
       "      <td>21st Century Wire says Another key swing state...</td>\n",
       "      <td>1</td>\n",
       "      <td>21st century wire say another key swing state ...</td>\n",
       "      <td>21st centuri wire say anoth key swing state go...</td>\n",
       "      <td>21st centuri wire say anoth key swing state go...</td>\n",
       "    </tr>\n",
       "    <tr>\n",
       "      <th>44895</th>\n",
       "      <td>Trump slaps travel restrictions on N.Korea, Ve...</td>\n",
       "      <td>WASHINGTON (Reuters) - President Donald Trump ...</td>\n",
       "      <td>0</td>\n",
       "      <td>washington reuters president donald trump sund...</td>\n",
       "      <td>washington reuter presid donald trump sunday s...</td>\n",
       "      <td>washington reuter presid donald trump sunday s...</td>\n",
       "    </tr>\n",
       "    <tr>\n",
       "      <th>44896</th>\n",
       "      <td>Grandmas, grandpas from travel ban states now ...</td>\n",
       "      <td>WASHINGTON (Reuters) - Grandparents of U.S. ci...</td>\n",
       "      <td>0</td>\n",
       "      <td>washington reuters grandparent u citizen six m...</td>\n",
       "      <td>washington reuter grandpar u citizen six musli...</td>\n",
       "      <td>washington reuter grandpar u citizen six musli...</td>\n",
       "    </tr>\n",
       "    <tr>\n",
       "      <th>44897</th>\n",
       "      <td>UK PM May: We will not revoke Article 50 EU ex...</td>\n",
       "      <td>LONDON (Reuters) - Britain will not revoke the...</td>\n",
       "      <td>0</td>\n",
       "      <td>london reuters britain revoke article 50 legal...</td>\n",
       "      <td>london reuter britain revok articl 50 legal pr...</td>\n",
       "      <td>london reuter britain revok articl 50 legal pr...</td>\n",
       "    </tr>\n",
       "  </tbody>\n",
       "</table>\n",
       "<p>44898 rows × 6 columns</p>\n",
       "</div>"
      ],
      "text/plain": [
       "                                                   title  \\\n",
       "0      Iraq PM Abadi expects Islamic State's complete...   \n",
       "1                       ‘Bernie Sanders is on a Mission’   \n",
       "2      'Wave of humanity' puts aid agencies to the te...   \n",
       "3      U.S. candidate Rubio: conditions not right for...   \n",
       "4      Australia's former deputy PM wins by-election ...   \n",
       "...                                                  ...   \n",
       "44893  Former CIA chief says he warned Moscow over el...   \n",
       "44894  The Wahabi Vote: Poll Shows 68 percent of Saud...   \n",
       "44895  Trump slaps travel restrictions on N.Korea, Ve...   \n",
       "44896  Grandmas, grandpas from travel ban states now ...   \n",
       "44897  UK PM May: We will not revoke Article 50 EU ex...   \n",
       "\n",
       "                                                    text  label  \\\n",
       "0      BAGHDAD (Reuters) - Islamic State will be comp...      0   \n",
       "1      21st Century Wire says But he can he accomplis...      1   \n",
       "2      DHAKA/KUTUPALONG, Bangladesh (Reuters) - How d...      0   \n",
       "3      (Reuters) - U.S. Republican presidential candi...      0   \n",
       "4      SYDNEY (Reuters) - Australia s former deputy p...      0   \n",
       "...                                                  ...    ...   \n",
       "44893  WASHINGTON (Reuters) - Former CIA Director Joh...      0   \n",
       "44894  21st Century Wire says Another key swing state...      1   \n",
       "44895  WASHINGTON (Reuters) - President Donald Trump ...      0   \n",
       "44896  WASHINGTON (Reuters) - Grandparents of U.S. ci...      0   \n",
       "44897  LONDON (Reuters) - Britain will not revoke the...      0   \n",
       "\n",
       "                                                new_text  \\\n",
       "0      baghdad reuters islamic state completely defea...   \n",
       "1      21st century wire say accomplish objectivein f...   \n",
       "2      dhakakutupalong bangladesh reuters feed shelte...   \n",
       "3      reuters u republican presidential candidate ma...   \n",
       "4      sydney reuters australia former deputy prime m...   \n",
       "...                                                  ...   \n",
       "44893  washington reuters former cia director john br...   \n",
       "44894  21st century wire say another key swing state ...   \n",
       "44895  washington reuters president donald trump sund...   \n",
       "44896  washington reuters grandparent u citizen six m...   \n",
       "44897  london reuters britain revoke article 50 legal...   \n",
       "\n",
       "                                         new_text(clean)  \\\n",
       "0      baghdad reuter islam state complet defeat iraq...   \n",
       "1      21st centuri wire say accomplish objectivein f...   \n",
       "2      dhakakutupalong bangladesh reuter feed shelter...   \n",
       "3      reuter u republican presidenti candid marco ru...   \n",
       "4      sydney reuter australia former deputi prime mi...   \n",
       "...                                                  ...   \n",
       "44893  washington reuter former cia director john bre...   \n",
       "44894  21st centuri wire say anoth key swing state go...   \n",
       "44895  washington reuter presid donald trump sunday s...   \n",
       "44896  washington reuter grandpar u citizen six musli...   \n",
       "44897  london reuter britain revok articl 50 legal pr...   \n",
       "\n",
       "                                               stem_text  \n",
       "0      baghdad reuter islam state complet defeat iraq...  \n",
       "1      21st centuri wire say accomplish objectivein f...  \n",
       "2      dhakakutupalong bangladesh reuter feed shelter...  \n",
       "3      reuter u republican presidenti candid marco ru...  \n",
       "4      sydney reuter australia former deputi prime mi...  \n",
       "...                                                  ...  \n",
       "44893  washington reuter former cia director john bre...  \n",
       "44894  21st centuri wire say anoth key swing state go...  \n",
       "44895  washington reuter presid donald trump sunday s...  \n",
       "44896  washington reuter grandpar u citizen six musli...  \n",
       "44897  london reuter britain revok articl 50 legal pr...  \n",
       "\n",
       "[44898 rows x 6 columns]"
      ]
     },
     "execution_count": 22,
     "metadata": {},
     "output_type": "execute_result"
    }
   ],
   "source": [
    "df['new_text'] = df['text'].apply(clean_text)\n",
    "df['new_text'] = df['new_text'].apply(remove_Stopwords)\n",
    "df['new_text'] = df['new_text'].apply(lemmatize_text)\n",
    "df['stem_text'] = df['new_text'].apply(stemSentence)\n",
    "\n",
    "df"
   ]
  },
  {
   "cell_type": "code",
   "execution_count": 19,
   "metadata": {},
   "outputs": [
    {
     "data": {
      "text/plain": [
       "'BAGHDAD (Reuters) - Islamic State will be completely defeated in Iraq this year, Iraqi state television quoted Prime Minister Haider al-Abadi as saying on Tuesday. Islamic State s cross-border  caliphate  effectively collapsed in July, when U.S.-backed Iraqi forces captured Mosul, the group s de facto capital in Iraq, after a nine-month battle. The group s last territory in Iraq is now a stretch skirting the western border with Syria following the fall of the town of Hawija and surrounding areas on Oct. 5 in an offensive by U.S.-backed Iraqi forces. '"
      ]
     },
     "execution_count": 19,
     "metadata": {},
     "output_type": "execute_result"
    }
   ],
   "source": [
    "df.text[0]"
   ]
  },
  {
   "cell_type": "code",
   "execution_count": 20,
   "metadata": {},
   "outputs": [
    {
     "data": {
      "text/plain": [
       "'baghdad reuters islamic state completely defeated iraq year iraqi state television quoted prime minister haider alabadi saying tuesday islamic state crossborder caliphate effectively collapsed july usbacked iraqi force captured mosul group de facto capital iraq ninemonth battle group last territory iraq stretch skirting western border syria following fall town hawija surrounding area oct 5 offensive usbacked iraqi force'"
      ]
     },
     "execution_count": 20,
     "metadata": {},
     "output_type": "execute_result"
    }
   ],
   "source": [
    "df.new_text[0]"
   ]
  },
  {
   "cell_type": "code",
   "execution_count": 23,
   "metadata": {},
   "outputs": [
    {
     "data": {
      "text/plain": [
       "'baghdad reuter islam state complet defeat iraq year iraqi state televis quot prime minist haider alabadi say tuesday islam state crossbord caliph effect collaps juli usback iraqi forc captur mosul group de facto capit iraq ninemonth battl group last territori iraq stretch skirt western border syria follow fall town hawija surround area oct 5 offens usback iraqi forc '"
      ]
     },
     "execution_count": 23,
     "metadata": {},
     "output_type": "execute_result"
    }
   ],
   "source": [
    "df.stem_text[0]"
   ]
  },
  {
   "cell_type": "markdown",
   "metadata": {},
   "source": [
    "## Model Building"
   ]
  },
  {
   "cell_type": "code",
   "execution_count": 24,
   "metadata": {},
   "outputs": [
    {
     "data": {
      "text/plain": [
       "(33454,\n",
       " Index(['title', 'text', 'label', 'new_text', 'new_text(clean)', 'stem_text'], dtype='object'))"
      ]
     },
     "execution_count": 24,
     "metadata": {},
     "output_type": "execute_result"
    }
   ],
   "source": [
    "length = df['stem_text'].str.len().max()\n",
    "length, df.columns"
   ]
  },
  {
   "cell_type": "code",
   "execution_count": 25,
   "metadata": {},
   "outputs": [
    {
     "data": {
      "text/plain": [
       "(array([0, 1, 0, ..., 0, 0, 0], dtype=int64),\n",
       " array(['baghdad reuter islam state complet defeat iraq year iraqi state televis quot prime minist haider alabadi say tuesday islam state crossbord caliph effect collaps juli usback iraqi forc captur mosul group de facto capit iraq ninemonth battl group last territori iraq stretch skirt western border syria follow fall town hawija surround area oct 5 offens usback iraqi forc ',\n",
       "        '21st centuri wire say accomplish objectivein follow episod crosstalk panel get heat discuss questionsand candid chanc beat trump hillari consist lose headtohead pollswatch full episod everyth elect 2016 21st centuri wire elect file ',\n",
       "        'dhakakutupalong bangladesh reuter feed shelter nearli half million traumat peopl made way cours one month spit monsoonsoak land 300000 refuge alreadi live squalor challeng aid worker scrambl help rohingya muslim crowd cox bazar region southern bangladesh spasm violenc myanmar rakhin state sent flee across border noth compar term number peopl arriv short space time happen sinc 1994 rwanda said christoph lom asiapacif spokesman intern organ migrat iom 480000 men woman child arriv cox bazar sinc end august accord unit nation estim came noth cloth wore nearli 200 woman given birth sinc arriv anoth 20000 pregnant meet need vast number indefinit nowher els go one poorest region poor countri logist nightmar bangladesh govern un agenc aid organ tast come octob novemb last year smaller outbreak violenc brought influx 80000 rohingya prompt improv infrastructur coordin cox bazar said unit nation local chief coordin robert watkin work extrem well said got wave human overwhelm un high commission refuge filippo grandi said visit cox bazar week urgent need shelter clean water sanit realli first order busi first challeng get peopl mud despair find place organ relief provid told news confer geneva combin limit health facil poor sanitari hygien condit overcrowd site recip disast term possibl epidem far 475 tonn aid arriv chittagong airport north cox bazar much muslimmajor countri shock kill torch villag northwestern rakhin un offici brand ethnic cleans initi respons chaotic say aid expert due sheer volum peopl arriv bangladesh sinc prais improv organ sept 14 meet prime minist offic dhaka author made 22 decis remov logist hurdl accord document review reuter includ build 14 storag warehous regul aid distribut protect orphan build road power infrastructur set shelter 500000 peopl mohammad shah kamal bangladesh secretari disast manag relief main coordin aid effort said arm forc scan shipment aid transport airport port cox bazar local offici take charg distribut think everyon surpris bangladeshi govern said karim elguindi senior world food program offici cox bazar note fasttrack everyth offer polic support help custom delay intersector coordin group lead humanitarian respons influx rohingya said recent updat basic coordin still lack staff agenc assign specif camp bangladesh hope make room new arriv build 2000acr camp ukhia area cox bazar un say much area suitabl habit lack water sewerag road mani refuge alreadi settl anyway complic aid effort privat civic religi group throw food cloth back truck expert say way get relief neediest thousand tarpaulin shelter refuge built recent week stretch across dozen small hill rice paddi access long walk across flimsi bamboo bridg famili one remot part sprawl kutupalong refuge camp 40minut walk nearest offici distribut point said mostli reli handout rel surviv mushtaq ahm 66 religi teacher shelter rain tarpaulin said resort beg buy rice child grandchild tri throw scrambl aid thrown truck come away noth mani peopl rush said weak get ',\n",
       "        ...,\n",
       "        'washington reuter presid donald trump sunday slap new travel restrict citizen north korea venezuela chad expand eight list countri cover origin travel ban derid critic challeng court iran libya syria yemen somalia left list affect countri new proclam issu presid restrict citizen sudan lift measur help fulfil campaign promis trump made tighten u immigr procedur align america first foreign polici vision unlik presid origin ban time limit one openend make america safe number one prioriti admit countri safe vet presid said tweet shortli proclam releas iraqi citizen subject travel prohibit face enhanc scrutini vet current ban enact march set expir sunday even new restrict slate take effect oct 18 result review trump origin travel ban spark intern outrag legal challeng addit north korea venezuela broaden restrict origin mostli muslimmajor list administr offici brief report confer call acknowledg number north korean travel unit state low right group amnesti intern usa condemn measur origin ban especi outrag mean stand yet anoth version governmentsanct discrimin said statement senseless cruel ban whole nation peopl often flee violenc u govern wish keep must normal american civil liberti union said statement addit north korea venezuela obfusc real fact administr order still muslim ban white hous portray restrict consequ countri meet new requir vet immigr issu visa requir share juli foreign govern 50 day make improv need white hous said number countri made improv enhanc secur travel document report passport lost stolen other spark restrict announc came u suprem court prepar hear oral argument oct 10 legal trump previou travel ban includ whether discrimin muslim trump threaten destroy north korea attack unit state alli pyongyang earlier month conduct power nuclear bomb test presid also direct harsh critic venezuela hint potenti militari option deal caraca offici describ addit two countri trump travel restrict result pure object review case north korea suspens sweep appli immigr nonimmigr offici said hard unit state valid ident someon come north korea find person threat north korea quit bluntli cooper whatsoev one offici said restrict venezuela focus socialist govern offici trump administr blame countri slide econom disarray includ offici bolivarian nation intellig servic immedi famili trump receiv set polici recommend friday act secretari homeland secur elain duke brief matter administr offici includ attorney gener jeff session secretari state rex tillerson white hous aid said rollout sunday decidedli organ trump first stab travel ban unveil littl warn spark protest airport worldwid earlier sunday trump told report ban tougher better rather total ban entri unit state propos restrict differ nation base cooper american secur mandat threat unit state belief countri present variabl offici said somali exampl bar enter unit state immigr subject greater screen visit sept 15 bomb attack london train trump wrote twitter new ban far larger tougher specif stupidli would polit correct expir ban block entri unit state peopl six countri 90 day lock aspir refuge 120 day give trump administr time conduct worldwid review u vet procedur foreign visitor critic accus republican presid discrimin muslim violat constitut guarante religi liberti equal protect law break exist u immigr law stoke religi hatr feder court block ban u suprem court allow take effect june restrict ',\n",
       "        'washington reuter grandpar u citizen six muslimmajor countri elig receiv u visa accord state depart memo seen reuter reflect latest court rule u presid donald trump ’ travel ban memo cabl u secretari state rex tillerson sent u diplomat post oversea friday u district judg hawaii issu rule late thursday limit scope administr ’ temporari ban refuge travel six countri u district judg derrick watson honolulu found govern bar grandpar rel unit state citizen iran libya somalia sudan syria yemen get visa ban watson declin put rule hold pend appeal mean went effect immedi administr ask suprem court san franciscobas 9th u circuit court appeal block decis juli 14 cabl updat definit close famili exempt temporari travel ban laid trump march 6 execut order cabl read reutrs2uc040i cabl revers state depart ’ previou narrow definit close famili state “ grandpar grandchild brothersinlaw sistersinlaw aunt uncl nephew niec cousin ” elig visa consul embassi need reopen visa applic refus prior narrow definit close famili member cabl said march 10 march 17 tillerson issu four cabl origin give instruct implement travel ban rescind much guidanc court rule issu without approv white hous offic manag budget anoth revers state depart origin interpret suprem court ’ june 26 rule exclud fiancé say count close famili relationship elig exempt travel ban 90day travel ban take effect june 29 state depart said fiancé would count close famili “ guy consular offic enough whiplash past six seven month continu fulfil role process visa applic ” said stephen pattison former state depart consular offici work immigr attorney “ peopl realli get whiplash peopl depart respons formul polici get approv get sent ” state depart offici declin comment intern commun “ regularli provid updat oper instruct embassi consul around world ensur consular offic use uptod vet procedur adjud visa ” offici said condit anonym “ process visa applic nation six affect countri direct execut order extent permit court decis ” offici said last month suprem court partial reviv march 6 ban block lower court said ban could take effect peopl “ bona fide relationship ” u person entiti could bar ',\n",
       "        'london reuter britain revok articl 50 legal process start twoyear brexit negoti period prime minist theresa may said monday govern made clear intent revok deliv vote british peopl may told parliament ask govern taken legal advic whether possibl revers process britain departur european union revok articl 50 may said govern polici comment legal advic receiv '],\n",
       "       dtype=object))"
      ]
     },
     "execution_count": 25,
     "metadata": {},
     "output_type": "execute_result"
    }
   ],
   "source": [
    "news = df['stem_text'].values\n",
    "label = df['label'].values\n",
    "label, news"
   ]
  },
  {
   "cell_type": "code",
   "execution_count": 26,
   "metadata": {},
   "outputs": [],
   "source": [
    "news_train, news_test, label_train, label_test = train_test_split(news, label, test_size = 0.2, random_state = 123)"
   ]
  },
  {
   "cell_type": "code",
   "execution_count": 27,
   "metadata": {},
   "outputs": [],
   "source": [
    "tokenizer = Tokenizer(num_words = 10000, oov_token = '<OOV>')\n",
    "tokenizer.fit_on_texts(news_train)\n",
    "tokenizer.fit_on_texts(news_test)\n",
    "\n",
    "sequences_train = tokenizer.texts_to_sequences(news_train)\n",
    "sequences_test = tokenizer.texts_to_sequences(news_test)"
   ]
  },
  {
   "cell_type": "code",
   "execution_count": 28,
   "metadata": {},
   "outputs": [
    {
     "data": {
      "text/plain": [
       "237"
      ]
     },
     "execution_count": 28,
     "metadata": {},
     "output_type": "execute_result"
    }
   ],
   "source": [
    "# maxlen = max(len(sequence) for sequence in sequences_train)\n",
    "maxlen = int(sum(len(sequence) for sequence in sequences_train) / len(sequences_train))\n",
    "# maxlen = int(np.percentile([len(sequence) for sequence in sequences_train], 90))\n",
    "maxlen"
   ]
  },
  {
   "cell_type": "markdown",
   "metadata": {},
   "source": [
    "## Pad Sequence"
   ]
  },
  {
   "cell_type": "code",
   "execution_count": 29,
   "metadata": {},
   "outputs": [
    {
     "data": {
      "text/plain": [
       "array([[  62,   21,    5, ...,   60,  990,  215],\n",
       "       [1231,  341,  304, ...,    0,    0,    0],\n",
       "       [2303,   21, 1708, ...,    0,    0,    0],\n",
       "       ...,\n",
       "       [  68,   22,  258, ...,    0,    0,    0],\n",
       "       [  21, 1665,  341, ...,    0,    0,    0],\n",
       "       [  62,   21,    5, ...,    0,    0,    0]])"
      ]
     },
     "execution_count": 29,
     "metadata": {},
     "output_type": "execute_result"
    }
   ],
   "source": [
    "padded_train = pad_sequences(sequences=sequences_train,\n",
    "                             maxlen = maxlen,\n",
    "                             padding = 'post',\n",
    "                             truncating = 'post')\n",
    "padded_test = pad_sequences(sequences=sequences_test,\n",
    "                            maxlen = maxlen,\n",
    "                            padding = 'post',\n",
    "                            truncating = 'post')\n",
    "\n",
    "padded_train"
   ]
  },
  {
   "cell_type": "code",
   "execution_count": 31,
   "metadata": {},
   "outputs": [
    {
     "name": "stdout",
     "output_type": "stream",
     "text": [
      "WARNING:tensorflow:From c:\\Users\\ASUS\\AppData\\Local\\Programs\\Python\\Python310\\lib\\site-packages\\keras\\src\\optimizers\\__init__.py:309: The name tf.train.Optimizer is deprecated. Please use tf.compat.v1.train.Optimizer instead.\n",
      "\n"
     ]
    }
   ],
   "source": [
    "model = tf.keras.Sequential([\n",
    "    tf.keras.layers.Embedding(input_dim=10000, output_dim=256, input_length=maxlen),\n",
    "    tf.keras.layers.LSTM(512),\n",
    "    tf.keras.layers.Dense(254, activation='relu'),\n",
    "    tf.keras.layers.Dense(128, activation= 'relu'),\n",
    "    tf.keras.layers.Dense(1, activation='sigmoid')\n",
    "])\n",
    "\n",
    "#compile\n",
    "model.compile(loss ='binary_crossentropy',\n",
    "              optimizer = 'adam',\n",
    "              metrics = ['accuracy'])"
   ]
  },
  {
   "cell_type": "code",
   "execution_count": 32,
   "metadata": {},
   "outputs": [
    {
     "name": "stdout",
     "output_type": "stream",
     "text": [
      "Model: \"sequential_1\"\n",
      "_________________________________________________________________\n",
      " Layer (type)                Output Shape              Param #   \n",
      "=================================================================\n",
      " embedding_1 (Embedding)     (None, 237, 256)          2560000   \n",
      "                                                                 \n",
      " lstm_1 (LSTM)               (None, 512)               1574912   \n",
      "                                                                 \n",
      " dense_3 (Dense)             (None, 254)               130302    \n",
      "                                                                 \n",
      " dense_4 (Dense)             (None, 128)               32640     \n",
      "                                                                 \n",
      " dense_5 (Dense)             (None, 1)                 129       \n",
      "                                                                 \n",
      "=================================================================\n",
      "Total params: 4297983 (16.40 MB)\n",
      "Trainable params: 4297983 (16.40 MB)\n",
      "Non-trainable params: 0 (0.00 Byte)\n",
      "_________________________________________________________________\n"
     ]
    }
   ],
   "source": [
    "#cek model\n",
    "model.summary()"
   ]
  },
  {
   "cell_type": "code",
   "execution_count": 33,
   "metadata": {},
   "outputs": [
    {
     "name": "stdout",
     "output_type": "stream",
     "text": [
      "Epoch 1/100\n",
      "WARNING:tensorflow:From c:\\Users\\ASUS\\AppData\\Local\\Programs\\Python\\Python310\\lib\\site-packages\\keras\\src\\utils\\tf_utils.py:492: The name tf.ragged.RaggedTensorValue is deprecated. Please use tf.compat.v1.ragged.RaggedTensorValue instead.\n",
      "\n",
      "WARNING:tensorflow:From c:\\Users\\ASUS\\AppData\\Local\\Programs\\Python\\Python310\\lib\\site-packages\\keras\\src\\engine\\base_layer_utils.py:384: The name tf.executing_eagerly_outside_functions is deprecated. Please use tf.compat.v1.executing_eagerly_outside_functions instead.\n",
      "\n",
      "281/281 [==============================] - 884s 3s/step - loss: 0.4120 - accuracy: 0.8374 - val_loss: 0.2803 - val_accuracy: 0.9101 - lr: 0.0010\n",
      "Epoch 2/100\n",
      "281/281 [==============================] - ETA: 0s - loss: 0.2770 - accuracy: 0.9034\n",
      "Accuracy and Val_Accuracy has reached 98%! \n",
      "Epoch:  1\n",
      "281/281 [==============================] - 895s 3s/step - loss: 0.2770 - accuracy: 0.9034 - val_loss: 0.1406 - val_accuracy: 0.9676 - lr: 0.0010\n"
     ]
    }
   ],
   "source": [
    "#Callback Function\n",
    "class accCallback(Callback):\n",
    "   def on_epoch_end(self, epoch, logs={}):\n",
    "        if(logs.get('accuracy') >= 0.90 and logs.get('val_accuracy') >= 0.90):\n",
    "            print(\"\\nAccuracy and Val_Accuracy has reached 98%!\", \"\\nEpoch: \", epoch)\n",
    "            self.model.stop_training = True\n",
    "\n",
    "callbacks = accCallback()\n",
    "\n",
    "auto_reduction_LR = ReduceLROnPlateau(\n",
    "    monitor = 'val_accuracy',\n",
    "    patience = 2, #setelah 2 epoch, jika tidak ada kenaikan maka LR berkurang\n",
    "    verbose = 1,\n",
    "    factor = 0.2,\n",
    "    min_lr = 0.000003\n",
    ")\n",
    "\n",
    "auto_stop_learn = EarlyStopping(\n",
    "    monitor = 'val_accuracy',\n",
    "    min_delta = 0,\n",
    "    patience = 5,\n",
    "    verbose = 1,\n",
    "    mode = 'auto'\n",
    ")\n",
    "\n",
    "#latih model\n",
    "history = model.fit(padded_train, label_train,\n",
    "                    epochs = 100,\n",
    "                    batch_size=128,\n",
    "                    validation_data = (padded_test, label_test),\n",
    "                    verbose = 1,\n",
    "                    callbacks=[callbacks, auto_reduction_LR, auto_stop_learn],\n",
    "                    )"
   ]
  },
  {
   "cell_type": "code",
   "execution_count": 34,
   "metadata": {},
   "outputs": [
    {
     "data": {
      "image/png": "[encoded data removed]",
      "text/plain": [
       "<Figure size 700x400 with 1 Axes>"
      ]
     },
     "metadata": {},
     "output_type": "display_data"
    }
   ],
   "source": [
    "#plotting\n",
    "pd.DataFrame(history.history).plot(figsize=(7, 4))\n",
    "plt.grid(True)\n",
    "plt.gca().set_ylim(0,3) #sumbu y\n",
    "\n",
    "plt.show()"
   ]
  },
  {
   "cell_type": "code",
   "execution_count": 35,
   "metadata": {},
   "outputs": [
    {
     "data": {
      "image/png": "[encoded data removed]",
      "text/plain": [
       "<Figure size 640x480 with 2 Axes>"
      ]
     },
     "metadata": {},
     "output_type": "display_data"
    }
   ],
   "source": [
    "# plot loss\n",
    "plt.subplot(211)\n",
    "plt.title('Loss')\n",
    "plt.plot(history.history['loss'], label='train')\n",
    "plt.plot(history.history['val_loss'], label='test')\n",
    "plt.legend()\n",
    "\n",
    "# plot accuracy\n",
    "plt.subplot(212)\n",
    "plt.title('Accuracy')\n",
    "plt.plot(history.history['accuracy'], label='train')\n",
    "plt.plot(history.history['val_accuracy'], label='test')\n",
    "plt.legend()\n",
    "plt.show()\n"
   ]
  },
  {
   "cell_type": "code",
   "execution_count": null,
   "metadata": {},
   "outputs": [],
   "source": []
  }
 ],
 "metadata": {
  "kernelspec": {
   "display_name": "Python 3",
   "language": "python",
   "name": "python3"
  },
  "language_info": {
   "codemirror_mode": {
    "name": "ipython",
    "version": 3
   },
   "file_extension": ".py",
   "mimetype": "text/x-python",
   "name": "python",
   "nbconvert_exporter": "python",
   "pygments_lexer": "ipython3",
   "version": "3.10.5"
  }
 },
 "nbformat": 4,
 "nbformat_minor": 2
}
